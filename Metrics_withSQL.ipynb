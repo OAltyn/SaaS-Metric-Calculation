{
 "cells": [
  {
   "cell_type": "markdown",
   "metadata": {
    "application/vnd.databricks.v1+cell": {
     "cellMetadata": {},
     "inputWidgets": {},
     "nuid": "af22535a-3154-40c3-9585-7827931b10e6",
     "showTitle": false,
     "tableResultSettingsMap": {},
     "title": ""
    }
   },
   "source": [
    "## SaaS Metrics Definitions and Calculations with SQL\n"
   ]
  },
  {
   "cell_type": "markdown",
   "metadata": {
    "application/vnd.databricks.v1+cell": {
     "cellMetadata": {},
     "inputWidgets": {},
     "nuid": "7f3b8792-715d-432c-bcad-cc01922a2a2b",
     "showTitle": false,
     "tableResultSettingsMap": {},
     "title": ""
    }
   },
   "source": [
    "\n",
    "### 1. Annual Recurring Revenue (ARR)\n",
    "\n",
    "| Category | Detail |\n",
    "| :--- | :--- |\n",
    "| **Definition** | The value of the predictable, recurring revenue components of a SaaS business's subscription contracts normalized for one year. Excludes one-time fees and variable usage charges. |\n",
    "| **SQL Concept** | Calculate the Monthly Recurring Revenue (**MRR**) for each active customer, aggregate the total MRR, and multiply by 12. |\n",
    "| **Formula** | $$\\text{ARR} = \\sum (\\text{Customer MRR}) \\times 12$$ |\n",
    "| **Data Required** | **Customer ID**, **Subscription Start/End Date**, **Monthly Recurring Revenue (MRR)** or **Annual Contract Value (ACV)**, **One-time fees flag/field** (to filter out non-recurring revenue). |\n"
   ]
  },
  {
   "cell_type": "code",
   "execution_count": 0,
   "metadata": {
    "application/vnd.databricks.v1+cell": {
     "cellMetadata": {
      "byteLimit": 2048000,
      "implicitDf": true,
      "rowLimit": 10000
     },
     "inputWidgets": {},
     "nuid": "2debe941-1ade-4b53-9441-3ac5bab32ede",
     "showTitle": false,
     "tableResultSettingsMap": {},
     "title": ""
    }
   },
   "outputs": [
    {
     "output_type": "display_data",
     "data": {
      "text/html": [
       "<style scoped>\n",
       "  .table-result-container {\n",
       "    max-height: 300px;\n",
       "    overflow: auto;\n",
       "  }\n",
       "  table, th, td {\n",
       "    border: 1px solid black;\n",
       "    border-collapse: collapse;\n",
       "  }\n",
       "  th, td {\n",
       "    padding: 5px;\n",
       "  }\n",
       "  th {\n",
       "    text-align: left;\n",
       "  }\n",
       "</style><div class='table-result-container'><table class='table-result'><thead style='background-color: white'><tr></tr></thead><tbody></tbody></table></div>"
      ]
     },
     "metadata": {
      "application/vnd.databricks.v1+output": {
       "addedWidgets": {},
       "aggData": [],
       "aggError": "",
       "aggOverflow": false,
       "aggSchema": [],
       "aggSeriesLimitReached": false,
       "aggType": "",
       "arguments": {},
       "columnCustomDisplayInfos": {},
       "data": [],
       "datasetInfos": [],
       "dbfsResultPath": null,
       "isJsonSchema": true,
       "metadata": {
        "dataframeName": null
       },
       "overflow": false,
       "plotOptions": {
        "customPlotOptions": {},
        "displayType": "table",
        "pivotAggregation": null,
        "pivotColumns": null,
        "xColumns": null,
        "yColumns": null
       },
       "removedWidgets": [],
       "schema": [],
       "type": "table"
      }
     },
     "output_type": "display_data"
    }
   ],
   "source": [
    "%sql\n",
    "CREATE OR REPLACE TEMPORARY VIEW ARR \n",
    "USING CSV\n",
    "OPTIONS (\n",
    "  path \"file:/Workspace/Users/olesia.tankersley@thermofisher.com/Optimization/data/ARR.csv\",\n",
    "  header \"true\",\n",
    "  inferSchema \"true\" );"
   ]
  },
  {
   "cell_type": "code",
   "execution_count": 0,
   "metadata": {
    "application/vnd.databricks.v1+cell": {
     "cellMetadata": {
      "byteLimit": 2048000,
      "implicitDf": true,
      "rowLimit": 10000
     },
     "inputWidgets": {},
     "nuid": "1b6607ed-cae2-42f1-b4d2-14426476b2a2",
     "showTitle": false,
     "tableResultSettingsMap": {
      "0": {
       "dataGridStateBlob": "{\"version\":1,\"tableState\":{\"columnPinning\":{\"left\":[\"#row_number#\"],\"right\":[]},\"columnSizing\":{},\"columnVisibility\":{}},\"settings\":{\"columns\":{}},\"syncTimestamp\":1760584682586}",
       "filterBlob": null,
       "queryPlanFiltersBlob": null,
       "tableResultIndex": 0
      }
     },
     "title": ""
    }
   },
   "outputs": [
    {
     "output_type": "display_data",
     "data": {
      "text/html": [
       "<style scoped>\n",
       "  .table-result-container {\n",
       "    max-height: 300px;\n",
       "    overflow: auto;\n",
       "  }\n",
       "  table, th, td {\n",
       "    border: 1px solid black;\n",
       "    border-collapse: collapse;\n",
       "  }\n",
       "  th, td {\n",
       "    padding: 5px;\n",
       "  }\n",
       "  th {\n",
       "    text-align: left;\n",
       "  }\n",
       "</style><div class='table-result-container'><table class='table-result'><thead style='background-color: white'><tr><th>customer_id</th><th>subscription_start_date</th><th>subscription_end_date</th><th>monthly_recurring_revenue_mrr</th><th>subscription_status</th><th>one_time_setup_fee</th></tr></thead><tbody><tr><td>25</td><td>2023-06-26</td><td>2023-10-24</td><td>384</td><td>Cancelled</td><td>0</td></tr><tr><td>45</td><td>2023-05-27</td><td>2023-06-06</td><td>484</td><td>Cancelled</td><td>222</td></tr><tr><td>62</td><td>2024-05-28</td><td>2024-09-05</td><td>864</td><td>Cancelled</td><td>0</td></tr><tr><td>86</td><td>2025-09-19</td><td>2025-10-29</td><td>450</td><td>Cancelled</td><td>0</td></tr><tr><td>108</td><td>2024-09-23</td><td>2025-03-22</td><td>1833</td><td>Cancelled</td><td>0</td></tr></tbody></table></div>"
      ]
     },
     "metadata": {
      "application/vnd.databricks.v1+output": {
       "addedWidgets": {},
       "aggData": [],
       "aggError": "",
       "aggOverflow": false,
       "aggSchema": [],
       "aggSeriesLimitReached": false,
       "aggType": "",
       "arguments": {},
       "columnCustomDisplayInfos": {},
       "data": [
        [
         25,
         "2023-06-26",
         "2023-10-24",
         384,
         "Cancelled",
         0
        ],
        [
         45,
         "2023-05-27",
         "2023-06-06",
         484,
         "Cancelled",
         222
        ],
        [
         62,
         "2024-05-28",
         "2024-09-05",
         864,
         "Cancelled",
         0
        ],
        [
         86,
         "2025-09-19",
         "2025-10-29",
         450,
         "Cancelled",
         0
        ],
        [
         108,
         "2024-09-23",
         "2025-03-22",
         1833,
         "Cancelled",
         0
        ]
       ],
       "datasetInfos": [],
       "dbfsResultPath": null,
       "isJsonSchema": true,
       "metadata": {
        "createTempViewForImplicitDf": true,
        "dataframeName": "_sqldf",
        "executionCount": 1
       },
       "overflow": false,
       "plotOptions": {
        "customPlotOptions": {},
        "displayType": "table",
        "pivotAggregation": null,
        "pivotColumns": null,
        "xColumns": null,
        "yColumns": null
       },
       "removedWidgets": [],
       "schema": [
        {
         "metadata": "{}",
         "name": "customer_id",
         "type": "\"integer\""
        },
        {
         "metadata": "{\"__detected_date_formats\":\"M/d/yyyy\"}",
         "name": "subscription_start_date",
         "type": "\"date\""
        },
        {
         "metadata": "{\"__detected_date_formats\":\"M/d/yyyy\"}",
         "name": "subscription_end_date",
         "type": "\"date\""
        },
        {
         "metadata": "{}",
         "name": "monthly_recurring_revenue_mrr",
         "type": "\"integer\""
        },
        {
         "metadata": "{}",
         "name": "subscription_status",
         "type": "\"string\""
        },
        {
         "metadata": "{}",
         "name": "one_time_setup_fee",
         "type": "\"integer\""
        }
       ],
       "type": "table"
      }
     },
     "output_type": "display_data"
    }
   ],
   "source": [
    " %sql\n",
    "select * from ARR limit 5"
   ]
  },
  {
   "cell_type": "code",
   "execution_count": 0,
   "metadata": {
    "application/vnd.databricks.v1+cell": {
     "cellMetadata": {
      "byteLimit": 2048000,
      "implicitDf": true,
      "rowLimit": 10000
     },
     "inputWidgets": {},
     "nuid": "64bd01d3-8a43-4e1e-b0a5-77c9f4433073",
     "showTitle": false,
     "tableResultSettingsMap": {
      "0": {
       "dataGridStateBlob": "{\"version\":1,\"tableState\":{\"columnPinning\":{\"left\":[\"#row_number#\"],\"right\":[]},\"columnSizing\":{},\"columnVisibility\":{}},\"settings\":{\"columns\":{}},\"syncTimestamp\":1760584346233}",
       "filterBlob": null,
       "queryPlanFiltersBlob": null,
       "tableResultIndex": 0
      }
     },
     "title": ""
    }
   },
   "outputs": [
    {
     "output_type": "display_data",
     "data": {
      "text/html": [
       "<style scoped>\n",
       "  .table-result-container {\n",
       "    max-height: 300px;\n",
       "    overflow: auto;\n",
       "  }\n",
       "  table, th, td {\n",
       "    border: 1px solid black;\n",
       "    border-collapse: collapse;\n",
       "  }\n",
       "  th, td {\n",
       "    padding: 5px;\n",
       "  }\n",
       "  th {\n",
       "    text-align: left;\n",
       "  }\n",
       "</style><div class='table-result-container'><table class='table-result'><thead style='background-color: white'><tr><th>annual_recurring_revenue_ARR</th></tr></thead><tbody><tr><td>41844</td></tr></tbody></table></div>"
      ]
     },
     "metadata": {
      "application/vnd.databricks.v1+output": {
       "addedWidgets": {},
       "aggData": [],
       "aggError": "",
       "aggOverflow": false,
       "aggSchema": [],
       "aggSeriesLimitReached": false,
       "aggType": "",
       "arguments": {},
       "columnCustomDisplayInfos": {},
       "data": [
        [
         41844
        ]
       ],
       "datasetInfos": [],
       "dbfsResultPath": null,
       "isJsonSchema": true,
       "metadata": {
        "createTempViewForImplicitDf": true,
        "dataframeName": "_sqldf",
        "executionCount": 2
       },
       "overflow": false,
       "plotOptions": {
        "customPlotOptions": {},
        "displayType": "table",
        "pivotAggregation": null,
        "pivotColumns": null,
        "xColumns": null,
        "yColumns": null
       },
       "removedWidgets": [],
       "schema": [
        {
         "metadata": "{}",
         "name": "annual_recurring_revenue_ARR",
         "type": "\"long\""
        }
       ],
       "type": "table"
      }
     },
     "output_type": "display_data"
    }
   ],
   "source": [
    "%sql\n",
    "\n",
    "select 12 *(sum(case when subscription_end_date is not null then monthly_recurring_revenue_mrr else 0 end) - sum(one_time_setup_fee)) as annual_recurring_revenue_ARR\n",
    "from ARR"
   ]
  },
  {
   "cell_type": "markdown",
   "metadata": {
    "application/vnd.databricks.v1+cell": {
     "cellMetadata": {},
     "inputWidgets": {},
     "nuid": "158c3d88-a843-4d86-b752-ef5c04ebce63",
     "showTitle": false,
     "tableResultSettingsMap": {},
     "title": ""
    }
   },
   "source": [
    "\n",
    "### 2. Gross Revenue Retention (GRR)\n",
    "\n",
    "| Category | Detail |\n",
    "| :--- | :--- |\n",
    "| **Definition** | The percentage of revenue retained from existing customers over a specific period, accounting *only* for **downgrades** and **churn**. It *excludes* upsells. |\n",
    "| **SQL Concept** | Calculate the baseline revenue at the start of the period. Subtract revenue lost from churn and downgrades, then divide by the baseline revenue. |\n",
    "| **Formula** | $$\\text{GRR} = \\frac{(\\text{Starting ARR} - \\text{Churn} - \\text{Downgrades})}{\\text{Starting ARR}} \\times 100$$ |\n",
    "| **Data Required** | **Customer ID**, **Start-of-Period MRR/ARR** (Baseline Revenue), **Revenue Lost from Downgrades**, **Revenue Lost from Churn** (during the period). |\n",
    "\n"
   ]
  },
  {
   "cell_type": "code",
   "execution_count": 0,
   "metadata": {
    "application/vnd.databricks.v1+cell": {
     "cellMetadata": {
      "byteLimit": 2048000,
      "implicitDf": true,
      "rowLimit": 10000
     },
     "inputWidgets": {},
     "nuid": "7ef72870-d712-4a26-8a50-774618d00dad",
     "showTitle": false,
     "tableResultSettingsMap": {},
     "title": ""
    }
   },
   "outputs": [
    {
     "output_type": "display_data",
     "data": {
      "text/html": [
       "<style scoped>\n",
       "  .table-result-container {\n",
       "    max-height: 300px;\n",
       "    overflow: auto;\n",
       "  }\n",
       "  table, th, td {\n",
       "    border: 1px solid black;\n",
       "    border-collapse: collapse;\n",
       "  }\n",
       "  th, td {\n",
       "    padding: 5px;\n",
       "  }\n",
       "  th {\n",
       "    text-align: left;\n",
       "  }\n",
       "</style><div class='table-result-container'><table class='table-result'><thead style='background-color: white'><tr></tr></thead><tbody></tbody></table></div>"
      ]
     },
     "metadata": {
      "application/vnd.databricks.v1+output": {
       "addedWidgets": {},
       "aggData": [],
       "aggError": "",
       "aggOverflow": false,
       "aggSchema": [],
       "aggSeriesLimitReached": false,
       "aggType": "",
       "arguments": {},
       "columnCustomDisplayInfos": {},
       "data": [],
       "datasetInfos": [],
       "dbfsResultPath": null,
       "isJsonSchema": true,
       "metadata": {
        "dataframeName": null
       },
       "overflow": false,
       "plotOptions": {
        "customPlotOptions": {},
        "displayType": "table",
        "pivotAggregation": null,
        "pivotColumns": null,
        "xColumns": null,
        "yColumns": null
       },
       "removedWidgets": [],
       "schema": [],
       "type": "table"
      }
     },
     "output_type": "display_data"
    }
   ],
   "source": [
    "%sql\n",
    "CREATE OR REPLACE TEMPORARY VIEW GRR \n",
    "USING CSV\n",
    "OPTIONS (\n",
    "  path \"file:/Workspace/Users/olesia.tankersley@thermofisher.com/Optimization/data/GRR.csv\",\n",
    "  header \"true\",\n",
    "  inferSchema \"true\" );"
   ]
  },
  {
   "cell_type": "code",
   "execution_count": 0,
   "metadata": {
    "application/vnd.databricks.v1+cell": {
     "cellMetadata": {
      "byteLimit": 2048000,
      "implicitDf": true,
      "rowLimit": 10000
     },
     "inputWidgets": {},
     "nuid": "7e9ce80e-eca8-4eec-b939-51a0c6e2ec1d",
     "showTitle": false,
     "tableResultSettingsMap": {},
     "title": ""
    }
   },
   "outputs": [
    {
     "output_type": "display_data",
     "data": {
      "text/html": [
       "<style scoped>\n",
       "  .table-result-container {\n",
       "    max-height: 300px;\n",
       "    overflow: auto;\n",
       "  }\n",
       "  table, th, td {\n",
       "    border: 1px solid black;\n",
       "    border-collapse: collapse;\n",
       "  }\n",
       "  th, td {\n",
       "    padding: 5px;\n",
       "  }\n",
       "  th {\n",
       "    text-align: left;\n",
       "  }\n",
       "</style><div class='table-result-container'><table class='table-result'><thead style='background-color: white'><tr><th>customer_id</th><th>start_date</th><th>end_date</th><th>start_of_period_mrr</th><th>end_of_period_mrr</th><th>retention_status</th><th>revenue_lost_churn_downgrade</th></tr></thead><tbody><tr><td>1</td><td>1/1/2024</td><td>2/1/2024</td><td>2090</td><td>2090.0</td><td>Retained</td><td>0.0</td></tr><tr><td>2</td><td>1/1/2024</td><td>2/1/2024</td><td>2555</td><td>2555.0</td><td>Retained</td><td>0.0</td></tr><tr><td>3</td><td>1/1/2024</td><td>2/1/2024</td><td>3904</td><td>3904.0</td><td>Retained</td><td>0.0</td></tr><tr><td>4</td><td>1/1/2024</td><td>2/1/2024</td><td>2817</td><td>2817.0</td><td>Retained</td><td>0.0</td></tr><tr><td>5</td><td>1/1/2024</td><td>2/1/2024</td><td>1769</td><td>1769.0</td><td>Retained</td><td>0.0</td></tr></tbody></table></div>"
      ]
     },
     "metadata": {
      "application/vnd.databricks.v1+output": {
       "addedWidgets": {},
       "aggData": [],
       "aggError": "",
       "aggOverflow": false,
       "aggSchema": [],
       "aggSeriesLimitReached": false,
       "aggType": "",
       "arguments": {},
       "columnCustomDisplayInfos": {},
       "data": [
        [
         1,
         "1/1/2024",
         "2/1/2024",
         2090,
         2090.0,
         "Retained",
         0.0
        ],
        [
         2,
         "1/1/2024",
         "2/1/2024",
         2555,
         2555.0,
         "Retained",
         0.0
        ],
        [
         3,
         "1/1/2024",
         "2/1/2024",
         3904,
         3904.0,
         "Retained",
         0.0
        ],
        [
         4,
         "1/1/2024",
         "2/1/2024",
         2817,
         2817.0,
         "Retained",
         0.0
        ],
        [
         5,
         "1/1/2024",
         "2/1/2024",
         1769,
         1769.0,
         "Retained",
         0.0
        ]
       ],
       "datasetInfos": [],
       "dbfsResultPath": null,
       "isJsonSchema": true,
       "metadata": {
        "createTempViewForImplicitDf": true,
        "dataframeName": "_sqldf",
        "executionCount": 3
       },
       "overflow": false,
       "plotOptions": {
        "customPlotOptions": {},
        "displayType": "table",
        "pivotAggregation": null,
        "pivotColumns": null,
        "xColumns": null,
        "yColumns": null
       },
       "removedWidgets": [],
       "schema": [
        {
         "metadata": "{}",
         "name": "customer_id",
         "type": "\"integer\""
        },
        {
         "metadata": "{}",
         "name": "start_date",
         "type": "\"string\""
        },
        {
         "metadata": "{}",
         "name": "end_date",
         "type": "\"string\""
        },
        {
         "metadata": "{}",
         "name": "start_of_period_mrr",
         "type": "\"integer\""
        },
        {
         "metadata": "{}",
         "name": "end_of_period_mrr",
         "type": "\"double\""
        },
        {
         "metadata": "{}",
         "name": "retention_status",
         "type": "\"string\""
        },
        {
         "metadata": "{}",
         "name": "revenue_lost_churn_downgrade",
         "type": "\"double\""
        }
       ],
       "type": "table"
      }
     },
     "output_type": "display_data"
    }
   ],
   "source": [
    " %sql\n",
    "select * from GRR limit 5"
   ]
  },
  {
   "cell_type": "code",
   "execution_count": 0,
   "metadata": {
    "application/vnd.databricks.v1+cell": {
     "cellMetadata": {
      "byteLimit": 2048000,
      "implicitDf": true,
      "rowLimit": 10000
     },
     "inputWidgets": {},
     "nuid": "cf8c7f89-4777-4377-80ed-ce9683f8ecc7",
     "showTitle": false,
     "tableResultSettingsMap": {},
     "title": ""
    }
   },
   "outputs": [
    {
     "output_type": "display_data",
     "data": {
      "text/html": [
       "<style scoped>\n",
       "  .table-result-container {\n",
       "    max-height: 300px;\n",
       "    overflow: auto;\n",
       "  }\n",
       "  table, th, td {\n",
       "    border: 1px solid black;\n",
       "    border-collapse: collapse;\n",
       "  }\n",
       "  th, td {\n",
       "    padding: 5px;\n",
       "  }\n",
       "  th {\n",
       "    text-align: left;\n",
       "  }\n",
       "</style><div class='table-result-container'><table class='table-result'><thead style='background-color: white'><tr><th>retention_status</th></tr></thead><tbody><tr><td>Downgrade</td></tr><tr><td>Churn</td></tr><tr><td>Retained</td></tr></tbody></table></div>"
      ]
     },
     "metadata": {
      "application/vnd.databricks.v1+output": {
       "addedWidgets": {},
       "aggData": [],
       "aggError": "",
       "aggOverflow": false,
       "aggSchema": [],
       "aggSeriesLimitReached": false,
       "aggType": "",
       "arguments": {},
       "columnCustomDisplayInfos": {},
       "data": [
        [
         "Downgrade"
        ],
        [
         "Churn"
        ],
        [
         "Retained"
        ]
       ],
       "datasetInfos": [],
       "dbfsResultPath": null,
       "isJsonSchema": true,
       "metadata": {
        "createTempViewForImplicitDf": true,
        "dataframeName": "_sqldf",
        "executionCount": 6
       },
       "overflow": false,
       "plotOptions": {
        "customPlotOptions": {},
        "displayType": "table",
        "pivotAggregation": null,
        "pivotColumns": null,
        "xColumns": null,
        "yColumns": null
       },
       "removedWidgets": [],
       "schema": [
        {
         "metadata": "{}",
         "name": "retention_status",
         "type": "\"string\""
        }
       ],
       "type": "table"
      }
     },
     "output_type": "display_data"
    }
   ],
   "source": [
    "%sql\n",
    "select distinct retention_status from GRR"
   ]
  },
  {
   "cell_type": "code",
   "execution_count": 0,
   "metadata": {
    "application/vnd.databricks.v1+cell": {
     "cellMetadata": {
      "byteLimit": 2048000,
      "implicitDf": true,
      "rowLimit": 10000
     },
     "inputWidgets": {},
     "nuid": "e6a8d525-b890-4692-8deb-62cd94506bbf",
     "showTitle": false,
     "tableResultSettingsMap": {
      "0": {
       "dataGridStateBlob": "{\"version\":1,\"tableState\":{\"columnPinning\":{\"left\":[\"#row_number#\"],\"right\":[]},\"columnSizing\":{},\"columnVisibility\":{}},\"settings\":{\"columns\":{}},\"syncTimestamp\":1760586563965}",
       "filterBlob": null,
       "queryPlanFiltersBlob": null,
       "tableResultIndex": 0
      }
     },
     "title": ""
    }
   },
   "outputs": [
    {
     "output_type": "display_data",
     "data": {
      "text/html": [
       "<style scoped>\n",
       "  .table-result-container {\n",
       "    max-height: 300px;\n",
       "    overflow: auto;\n",
       "  }\n",
       "  table, th, td {\n",
       "    border: 1px solid black;\n",
       "    border-collapse: collapse;\n",
       "  }\n",
       "  th, td {\n",
       "    padding: 5px;\n",
       "  }\n",
       "  th {\n",
       "    text-align: left;\n",
       "  }\n",
       "</style><div class='table-result-container'><table class='table-result'><thead style='background-color: white'><tr><th>starting_MRR</th><th>net_churn_downgrades</th><th>gross_revenue_retention_rate_GRR</th></tr></thead><tbody><tr><td>557450</td><td>518362.0</td><td>0.93</td></tr></tbody></table></div>"
      ]
     },
     "metadata": {
      "application/vnd.databricks.v1+output": {
       "addedWidgets": {},
       "aggData": [],
       "aggError": "",
       "aggOverflow": false,
       "aggSchema": [],
       "aggSeriesLimitReached": false,
       "aggType": "",
       "arguments": {},
       "columnCustomDisplayInfos": {},
       "data": [
        [
         557450,
         518362.0,
         0.93
        ]
       ],
       "datasetInfos": [],
       "dbfsResultPath": null,
       "isJsonSchema": true,
       "metadata": {
        "createTempViewForImplicitDf": true,
        "dataframeName": "_sqldf",
        "executionCount": 10
       },
       "overflow": false,
       "plotOptions": {
        "customPlotOptions": {},
        "displayType": "table",
        "pivotAggregation": null,
        "pivotColumns": null,
        "xColumns": null,
        "yColumns": null
       },
       "removedWidgets": [],
       "schema": [
        {
         "metadata": "{}",
         "name": "starting_MRR",
         "type": "\"long\""
        },
        {
         "metadata": "{}",
         "name": "net_churn_downgrades",
         "type": "\"double\""
        },
        {
         "metadata": "{}",
         "name": "gross_revenue_retention_rate_GRR",
         "type": "\"double\""
        }
       ],
       "type": "table"
      }
     },
     "output_type": "display_data"
    }
   ],
   "source": [
    "%sql\n",
    "select round(sum(start_of_period_mrr),0) as starting_MRR\n",
    "      ,round(sum(end_of_period_mrr),0)   as net_churn_downgrades\n",
    "      ,round(sum(end_of_period_mrr)\n",
    "      /sum(start_of_period_mrr),2) as gross_revenue_retention_rate_GRR  \n",
    "from GRR"
   ]
  },
  {
   "cell_type": "code",
   "execution_count": 0,
   "metadata": {
    "application/vnd.databricks.v1+cell": {
     "cellMetadata": {
      "byteLimit": 2048000,
      "implicitDf": true,
      "rowLimit": 10000
     },
     "inputWidgets": {},
     "nuid": "f033f9dc-7943-4d48-ab46-9fb581578965",
     "showTitle": false,
     "tableResultSettingsMap": {},
     "title": ""
    }
   },
   "outputs": [
    {
     "output_type": "display_data",
     "data": {
      "text/html": [
       "<style scoped>\n",
       "  .table-result-container {\n",
       "    max-height: 300px;\n",
       "    overflow: auto;\n",
       "  }\n",
       "  table, th, td {\n",
       "    border: 1px solid black;\n",
       "    border-collapse: collapse;\n",
       "  }\n",
       "  th, td {\n",
       "    padding: 5px;\n",
       "  }\n",
       "  th {\n",
       "    text-align: left;\n",
       "  }\n",
       "</style><div class='table-result-container'><table class='table-result'><thead style='background-color: white'><tr><th>retention_status</th><th>Starting_ARR</th><th>Net_Churn_Downgrades</th><th>GRR</th></tr></thead><tbody><tr><td>Downgrade</td><td>56106</td><td>36740.0</td><td>0.65</td></tr><tr><td>Churn</td><td>19722</td><td>0.0</td><td>0.0</td></tr><tr><td>Retained</td><td>481622</td><td>481622.0</td><td>1.0</td></tr></tbody></table></div>"
      ]
     },
     "metadata": {
      "application/vnd.databricks.v1+output": {
       "addedWidgets": {},
       "aggData": [],
       "aggError": "",
       "aggOverflow": false,
       "aggSchema": [],
       "aggSeriesLimitReached": false,
       "aggType": "",
       "arguments": {},
       "columnCustomDisplayInfos": {},
       "data": [
        [
         "Downgrade",
         56106,
         36740.0,
         0.65
        ],
        [
         "Churn",
         19722,
         0.0,
         0.0
        ],
        [
         "Retained",
         481622,
         481622.0,
         1.0
        ]
       ],
       "datasetInfos": [],
       "dbfsResultPath": null,
       "isJsonSchema": true,
       "metadata": {
        "createTempViewForImplicitDf": true,
        "dataframeName": "_sqldf",
        "executionCount": 11
       },
       "overflow": false,
       "plotOptions": {
        "customPlotOptions": {},
        "displayType": "table",
        "pivotAggregation": null,
        "pivotColumns": null,
        "xColumns": null,
        "yColumns": null
       },
       "removedWidgets": [],
       "schema": [
        {
         "metadata": "{}",
         "name": "retention_status",
         "type": "\"string\""
        },
        {
         "metadata": "{}",
         "name": "Starting_ARR",
         "type": "\"long\""
        },
        {
         "metadata": "{}",
         "name": "Net_Churn_Downgrades",
         "type": "\"double\""
        },
        {
         "metadata": "{}",
         "name": "GRR",
         "type": "\"double\""
        }
       ],
       "type": "table"
      }
     },
     "output_type": "display_data"
    }
   ],
   "source": [
    "%sql\n",
    "select retention_status, sum(start_of_period_mrr) as Starting_ARR, round(sum(end_of_period_mrr),0) as Net_Churn_Downgrades, round(sum(end_of_period_mrr)/sum(start_of_period_mrr),2) as GRR  \n",
    "from GRR\n",
    "group by retention_status"
   ]
  },
  {
   "cell_type": "markdown",
   "metadata": {
    "application/vnd.databricks.v1+cell": {
     "cellMetadata": {},
     "inputWidgets": {},
     "nuid": "d9a1d64a-edf6-4a8c-a10b-54f378bd2395",
     "showTitle": false,
     "tableResultSettingsMap": {},
     "title": ""
    }
   },
   "source": [
    "\n",
    "### 3. Net Revenue Retention (NRR)\n",
    "\n",
    "| Category | Detail |\n",
    "| :--- | :--- |\n",
    "| **Definition** | The percentage of revenue retained from existing customers, accounting for **downgrades**, **churn**, *and* **upsells**. A value over 100% indicates Net Negative Churn. |\n",
    "| **SQL Concept** | Calculate the baseline revenue. Add revenue from upsells, subtract revenue lost from churn and downgrades, then divide by the baseline revenue. |\n",
    "| **Formula** | $$\\text{NRR} = \\frac{(\\text{Starting ARR} - \\text{Churn} - \\text{Downgrades} + \\text{Upsells})}{\\text{Starting ARR}} \\times 100$$ |\n",
    "| **Data Required** | **Customer ID**, **Start-of-Period MRR/ARR** (Baseline Revenue), **Revenue Lost from Downgrades**, **Revenue Lost from Churn**, **Revenue Gained from Upsells/Expansions** (during the period). |\n",
    "\n"
   ]
  },
  {
   "cell_type": "code",
   "execution_count": 0,
   "metadata": {
    "application/vnd.databricks.v1+cell": {
     "cellMetadata": {
      "byteLimit": 2048000,
      "implicitDf": true,
      "rowLimit": 10000
     },
     "inputWidgets": {},
     "nuid": "8693cf0c-83ba-40e7-88d9-4f90dee9b2cd",
     "showTitle": false,
     "tableResultSettingsMap": {},
     "title": ""
    }
   },
   "outputs": [
    {
     "output_type": "display_data",
     "data": {
      "text/html": [
       "<style scoped>\n",
       "  .table-result-container {\n",
       "    max-height: 300px;\n",
       "    overflow: auto;\n",
       "  }\n",
       "  table, th, td {\n",
       "    border: 1px solid black;\n",
       "    border-collapse: collapse;\n",
       "  }\n",
       "  th, td {\n",
       "    padding: 5px;\n",
       "  }\n",
       "  th {\n",
       "    text-align: left;\n",
       "  }\n",
       "</style><div class='table-result-container'><table class='table-result'><thead style='background-color: white'><tr></tr></thead><tbody></tbody></table></div>"
      ]
     },
     "metadata": {
      "application/vnd.databricks.v1+output": {
       "addedWidgets": {},
       "aggData": [],
       "aggError": "",
       "aggOverflow": false,
       "aggSchema": [],
       "aggSeriesLimitReached": false,
       "aggType": "",
       "arguments": {},
       "columnCustomDisplayInfos": {},
       "data": [],
       "datasetInfos": [],
       "dbfsResultPath": null,
       "isJsonSchema": true,
       "metadata": {
        "dataframeName": null
       },
       "overflow": false,
       "plotOptions": {
        "customPlotOptions": {},
        "displayType": "table",
        "pivotAggregation": null,
        "pivotColumns": null,
        "xColumns": null,
        "yColumns": null
       },
       "removedWidgets": [],
       "schema": [],
       "type": "table"
      }
     },
     "output_type": "display_data"
    }
   ],
   "source": [
    "%sql\n",
    "CREATE OR REPLACE TEMPORARY VIEW NRR \n",
    "USING CSV\n",
    "OPTIONS (\n",
    "  path \"file:/Workspace/Users/olesia.tankersley@thermofisher.com/Optimization/data/NRR.csv\",\n",
    "  header \"true\",\n",
    "  inferSchema \"true\",\n",
    "  dateFormat \"yyyy/MM/dd\" );"
   ]
  },
  {
   "cell_type": "code",
   "execution_count": 0,
   "metadata": {
    "application/vnd.databricks.v1+cell": {
     "cellMetadata": {
      "byteLimit": 2048000,
      "implicitDf": true,
      "rowLimit": 10000
     },
     "inputWidgets": {},
     "nuid": "c7913178-3c23-43cb-8f91-620b1d490c34",
     "showTitle": false,
     "tableResultSettingsMap": {
      "0": {
       "dataGridStateBlob": "{\"version\":1,\"tableState\":{\"columnPinning\":{\"left\":[\"#row_number#\"],\"right\":[]},\"columnSizing\":{},\"columnVisibility\":{}},\"settings\":{\"columns\":{}},\"syncTimestamp\":1760576376237}",
       "filterBlob": null,
       "queryPlanFiltersBlob": null,
       "tableResultIndex": 0
      }
     },
     "title": ""
    }
   },
   "outputs": [
    {
     "output_type": "display_data",
     "data": {
      "text/html": [
       "<style scoped>\n",
       "  .table-result-container {\n",
       "    max-height: 300px;\n",
       "    overflow: auto;\n",
       "  }\n",
       "  table, th, td {\n",
       "    border: 1px solid black;\n",
       "    border-collapse: collapse;\n",
       "  }\n",
       "  th, td {\n",
       "    padding: 5px;\n",
       "  }\n",
       "  th {\n",
       "    text-align: left;\n",
       "  }\n",
       "</style><div class='table-result-container'><table class='table-result'><thead style='background-color: white'><tr><th>customer_id</th><th>start_date</th><th>end_date</th><th>start_of_period_mrr</th><th>end_of_period_mrr</th><th>revenue_lost_churn_downgrade</th><th>revenue_gained_upsell</th></tr></thead><tbody><tr><td>1</td><td>1/1/2025</td><td>2/1/2025</td><td>2951</td><td>2951.0</td><td>0.0</td><td>0.0</td></tr><tr><td>2</td><td>1/1/2025</td><td>2/1/2025</td><td>1165</td><td>1165.0</td><td>0.0</td><td>0.0</td></tr><tr><td>3</td><td>1/1/2025</td><td>2/1/2025</td><td>2203</td><td>2203.0</td><td>0.0</td><td>0.0</td></tr><tr><td>4</td><td>1/1/2025</td><td>2/1/2025</td><td>3354</td><td>2381.34</td><td>737.88</td><td>0.0</td></tr><tr><td>5</td><td>1/1/2025</td><td>2/1/2025</td><td>2387</td><td>2387.0</td><td>0.0</td><td>0.0</td></tr></tbody></table></div>"
      ]
     },
     "metadata": {
      "application/vnd.databricks.v1+output": {
       "addedWidgets": {},
       "aggData": [],
       "aggError": "",
       "aggOverflow": false,
       "aggSchema": [],
       "aggSeriesLimitReached": false,
       "aggType": "",
       "arguments": {},
       "columnCustomDisplayInfos": {},
       "data": [
        [
         1,
         "1/1/2025",
         "2/1/2025",
         2951,
         2951.0,
         0.0,
         0.0
        ],
        [
         2,
         "1/1/2025",
         "2/1/2025",
         1165,
         1165.0,
         0.0,
         0.0
        ],
        [
         3,
         "1/1/2025",
         "2/1/2025",
         2203,
         2203.0,
         0.0,
         0.0
        ],
        [
         4,
         "1/1/2025",
         "2/1/2025",
         3354,
         2381.34,
         737.88,
         0.0
        ],
        [
         5,
         "1/1/2025",
         "2/1/2025",
         2387,
         2387.0,
         0.0,
         0.0
        ]
       ],
       "datasetInfos": [],
       "dbfsResultPath": null,
       "isJsonSchema": true,
       "metadata": {
        "createTempViewForImplicitDf": true,
        "dataframeName": "_sqldf",
        "executionCount": 12
       },
       "overflow": false,
       "plotOptions": {
        "customPlotOptions": {},
        "displayType": "table",
        "pivotAggregation": null,
        "pivotColumns": null,
        "xColumns": null,
        "yColumns": null
       },
       "removedWidgets": [],
       "schema": [
        {
         "metadata": "{}",
         "name": "customer_id",
         "type": "\"integer\""
        },
        {
         "metadata": "{}",
         "name": "start_date",
         "type": "\"string\""
        },
        {
         "metadata": "{}",
         "name": "end_date",
         "type": "\"string\""
        },
        {
         "metadata": "{}",
         "name": "start_of_period_mrr",
         "type": "\"integer\""
        },
        {
         "metadata": "{}",
         "name": "end_of_period_mrr",
         "type": "\"double\""
        },
        {
         "metadata": "{}",
         "name": "revenue_lost_churn_downgrade",
         "type": "\"double\""
        },
        {
         "metadata": "{}",
         "name": "revenue_gained_upsell",
         "type": "\"double\""
        }
       ],
       "type": "table"
      }
     },
     "output_type": "display_data"
    }
   ],
   "source": [
    " %sql\n",
    "select * from NRR limit 5"
   ]
  },
  {
   "cell_type": "code",
   "execution_count": 0,
   "metadata": {
    "application/vnd.databricks.v1+cell": {
     "cellMetadata": {
      "byteLimit": 2048000,
      "implicitDf": true,
      "rowLimit": 10000
     },
     "inputWidgets": {},
     "nuid": "e36b8225-9848-4660-9b77-309e7afa7a3d",
     "showTitle": false,
     "tableResultSettingsMap": {
      "0": {
       "dataGridStateBlob": "{\"version\":1,\"tableState\":{\"columnPinning\":{\"left\":[\"#row_number#\"],\"right\":[]},\"columnSizing\":{},\"columnVisibility\":{}},\"settings\":{\"columns\":{}},\"syncTimestamp\":1760585834187}",
       "filterBlob": null,
       "queryPlanFiltersBlob": null,
       "tableResultIndex": 0
      }
     },
     "title": ""
    }
   },
   "outputs": [
    {
     "output_type": "display_data",
     "data": {
      "text/html": [
       "<style scoped>\n",
       "  .table-result-container {\n",
       "    max-height: 300px;\n",
       "    overflow: auto;\n",
       "  }\n",
       "  table, th, td {\n",
       "    border: 1px solid black;\n",
       "    border-collapse: collapse;\n",
       "  }\n",
       "  th, td {\n",
       "    padding: 5px;\n",
       "  }\n",
       "  th {\n",
       "    text-align: left;\n",
       "  }\n",
       "</style><div class='table-result-container'><table class='table-result'><thead style='background-color: white'><tr><th>starting_ARR</th><th>revenue_lost_churn_downgrade</th><th>revenue_upsell</th><th>net_revenue_retention</th><th>net_revenue_retention_rate_NRR</th></tr></thead><tbody><tr><td>685555</td><td>50669.0</td><td>24973.0</td><td>659859.0</td><td>0.96</td></tr></tbody></table></div>"
      ]
     },
     "metadata": {
      "application/vnd.databricks.v1+output": {
       "addedWidgets": {},
       "aggData": [],
       "aggError": "",
       "aggOverflow": false,
       "aggSchema": [],
       "aggSeriesLimitReached": false,
       "aggType": "",
       "arguments": {},
       "columnCustomDisplayInfos": {},
       "data": [
        [
         685555,
         50669.0,
         24973.0,
         659859.0,
         0.96
        ]
       ],
       "datasetInfos": [],
       "dbfsResultPath": null,
       "isJsonSchema": true,
       "metadata": {
        "createTempViewForImplicitDf": true,
        "dataframeName": "_sqldf",
        "executionCount": 13
       },
       "overflow": false,
       "plotOptions": {
        "customPlotOptions": {},
        "displayType": "table",
        "pivotAggregation": null,
        "pivotColumns": null,
        "xColumns": null,
        "yColumns": null
       },
       "removedWidgets": [],
       "schema": [
        {
         "metadata": "{}",
         "name": "starting_ARR",
         "type": "\"long\""
        },
        {
         "metadata": "{}",
         "name": "revenue_lost_churn_downgrade",
         "type": "\"double\""
        },
        {
         "metadata": "{}",
         "name": "revenue_upsell",
         "type": "\"double\""
        },
        {
         "metadata": "{}",
         "name": "net_revenue_retention",
         "type": "\"double\""
        },
        {
         "metadata": "{}",
         "name": "net_revenue_retention_rate_NRR",
         "type": "\"double\""
        }
       ],
       "type": "table"
      }
     },
     "output_type": "display_data"
    }
   ],
   "source": [
    "%sql\n",
    "select sum(start_of_period_mrr) as starting_ARR\n",
    "      ,round(sum(revenue_lost_churn_downgrade),0) as revenue_lost_churn_downgrade\n",
    "      ,round(sum(revenue_gained_upsell),0) as revenue_upsell\n",
    "      ,round(sum(start_of_period_mrr) - sum(revenue_lost_churn_downgrade) + sum(revenue_gained_upsell),0) as net_revenue_retention\n",
    "      ,round((sum(start_of_period_mrr) - sum(revenue_lost_churn_downgrade) + sum(revenue_gained_upsell))/sum(start_of_period_mrr),2) as net_revenue_retention_rate_NRR\n",
    "from NRR"
   ]
  },
  {
   "cell_type": "markdown",
   "metadata": {
    "application/vnd.databricks.v1+cell": {
     "cellMetadata": {},
     "inputWidgets": {},
     "nuid": "5f2a0564-9976-449c-9b48-f2c41618b488",
     "showTitle": false,
     "tableResultSettingsMap": {},
     "title": ""
    }
   },
   "source": [
    "\n",
    "\n",
    "### 4. Renewal Rate\n",
    "\n",
    "| Category | Detail |\n",
    "| :--- | :--- |\n",
    "| **Definition** | The percentage of existing contracts that were successfully renewed at the end of their term. |\n",
    "| **SQL Concept** | Count the contracts renewed during a specific period and divide by the total number of contracts that were due for renewal in that same period. |\n",
    "| **Formula** | $$\\text{Renewal Rate} = \\frac{\\text{Number of Renewed Contracts}}{\\text{Total Contracts Up for Renewal}} \\times 100$$ |\n",
    "| **Data Required** | **Contract ID**, **Contract End Date**, **Renewal Status** (e.g., 'Renewed', 'Non-Renewed'), **Contract Value** (optional, but useful for value-based rate). |\n",
    "\n",
    "\n"
   ]
  },
  {
   "cell_type": "code",
   "execution_count": 0,
   "metadata": {
    "application/vnd.databricks.v1+cell": {
     "cellMetadata": {
      "byteLimit": 2048000,
      "implicitDf": true,
      "rowLimit": 10000
     },
     "inputWidgets": {},
     "nuid": "259ccf46-fcdd-4a90-ba71-eae0f7bd3201",
     "showTitle": false,
     "tableResultSettingsMap": {},
     "title": ""
    }
   },
   "outputs": [
    {
     "output_type": "display_data",
     "data": {
      "text/html": [
       "<style scoped>\n",
       "  .table-result-container {\n",
       "    max-height: 300px;\n",
       "    overflow: auto;\n",
       "  }\n",
       "  table, th, td {\n",
       "    border: 1px solid black;\n",
       "    border-collapse: collapse;\n",
       "  }\n",
       "  th, td {\n",
       "    padding: 5px;\n",
       "  }\n",
       "  th {\n",
       "    text-align: left;\n",
       "  }\n",
       "</style><div class='table-result-container'><table class='table-result'><thead style='background-color: white'><tr></tr></thead><tbody></tbody></table></div>"
      ]
     },
     "metadata": {
      "application/vnd.databricks.v1+output": {
       "addedWidgets": {},
       "aggData": [],
       "aggError": "",
       "aggOverflow": false,
       "aggSchema": [],
       "aggSeriesLimitReached": false,
       "aggType": "",
       "arguments": {},
       "columnCustomDisplayInfos": {},
       "data": [],
       "datasetInfos": [],
       "dbfsResultPath": null,
       "isJsonSchema": true,
       "metadata": {
        "dataframeName": null
       },
       "overflow": false,
       "plotOptions": {
        "customPlotOptions": {},
        "displayType": "table",
        "pivotAggregation": null,
        "pivotColumns": null,
        "xColumns": null,
        "yColumns": null
       },
       "removedWidgets": [],
       "schema": [],
       "type": "table"
      }
     },
     "output_type": "display_data"
    }
   ],
   "source": [
    "%sql\n",
    "CREATE OR REPLACE TEMPORARY VIEW RR \n",
    "USING CSV\n",
    "OPTIONS (\n",
    "  path \"file:/Workspace/Users/olesia.tankersley@thermofisher.com/Optimization/data/RR.csv\",\n",
    "  header \"true\",\n",
    "  inferSchema \"true\",\n",
    "  dateFormat \"yyyy/MM/dd\" );"
   ]
  },
  {
   "cell_type": "code",
   "execution_count": 0,
   "metadata": {
    "application/vnd.databricks.v1+cell": {
     "cellMetadata": {
      "byteLimit": 2048000,
      "implicitDf": true,
      "rowLimit": 10000
     },
     "inputWidgets": {},
     "nuid": "4b79ad76-b1f1-4b16-8093-5a91ffd532c9",
     "showTitle": false,
     "tableResultSettingsMap": {},
     "title": ""
    }
   },
   "outputs": [
    {
     "output_type": "display_data",
     "data": {
      "text/html": [
       "<style scoped>\n",
       "  .table-result-container {\n",
       "    max-height: 300px;\n",
       "    overflow: auto;\n",
       "  }\n",
       "  table, th, td {\n",
       "    border: 1px solid black;\n",
       "    border-collapse: collapse;\n",
       "  }\n",
       "  th, td {\n",
       "    padding: 5px;\n",
       "  }\n",
       "  th {\n",
       "    text-align: left;\n",
       "  }\n",
       "</style><div class='table-result-container'><table class='table-result'><thead style='background-color: white'><tr><th>contract_id</th><th>contract_end_date</th><th>contract_value_acv</th><th>renewal_status</th></tr></thead><tbody><tr><td>1</td><td>3/19/2024</td><td>9684</td><td>Renewed</td></tr><tr><td>2</td><td>3/5/2024</td><td>5697</td><td>Renewed</td></tr><tr><td>3</td><td>2/24/2024</td><td>3725</td><td>Renewed</td></tr><tr><td>4</td><td>3/1/2024</td><td>9264</td><td>Renewed</td></tr><tr><td>5</td><td>2/25/2024</td><td>6423</td><td>Renewed</td></tr></tbody></table></div>"
      ]
     },
     "metadata": {
      "application/vnd.databricks.v1+output": {
       "addedWidgets": {},
       "aggData": [],
       "aggError": "",
       "aggOverflow": false,
       "aggSchema": [],
       "aggSeriesLimitReached": false,
       "aggType": "",
       "arguments": {},
       "columnCustomDisplayInfos": {},
       "data": [
        [
         1,
         "3/19/2024",
         9684,
         "Renewed"
        ],
        [
         2,
         "3/5/2024",
         5697,
         "Renewed"
        ],
        [
         3,
         "2/24/2024",
         3725,
         "Renewed"
        ],
        [
         4,
         "3/1/2024",
         9264,
         "Renewed"
        ],
        [
         5,
         "2/25/2024",
         6423,
         "Renewed"
        ]
       ],
       "datasetInfos": [],
       "dbfsResultPath": null,
       "isJsonSchema": true,
       "metadata": {
        "createTempViewForImplicitDf": true,
        "dataframeName": "_sqldf",
        "executionCount": 14
       },
       "overflow": false,
       "plotOptions": {
        "customPlotOptions": {},
        "displayType": "table",
        "pivotAggregation": null,
        "pivotColumns": null,
        "xColumns": null,
        "yColumns": null
       },
       "removedWidgets": [],
       "schema": [
        {
         "metadata": "{}",
         "name": "contract_id",
         "type": "\"integer\""
        },
        {
         "metadata": "{}",
         "name": "contract_end_date",
         "type": "\"string\""
        },
        {
         "metadata": "{}",
         "name": "contract_value_acv",
         "type": "\"integer\""
        },
        {
         "metadata": "{}",
         "name": "renewal_status",
         "type": "\"string\""
        }
       ],
       "type": "table"
      }
     },
     "output_type": "display_data"
    }
   ],
   "source": [
    " %sql\n",
    "select * from RR limit 5"
   ]
  },
  {
   "cell_type": "code",
   "execution_count": 0,
   "metadata": {
    "application/vnd.databricks.v1+cell": {
     "cellMetadata": {
      "byteLimit": 2048000,
      "implicitDf": true,
      "rowLimit": 10000
     },
     "inputWidgets": {},
     "nuid": "19437108-75e3-418b-bb75-70d22b9f91ef",
     "showTitle": false,
     "tableResultSettingsMap": {
      "0": {
       "dataGridStateBlob": "{\"version\":1,\"tableState\":{\"columnPinning\":{\"left\":[\"#row_number#\"],\"right\":[]},\"columnSizing\":{},\"columnVisibility\":{}},\"settings\":{\"columns\":{}},\"syncTimestamp\":1760586773956}",
       "filterBlob": null,
       "queryPlanFiltersBlob": null,
       "tableResultIndex": 0
      }
     },
     "title": ""
    }
   },
   "outputs": [
    {
     "output_type": "display_data",
     "data": {
      "text/html": [
       "<style scoped>\n",
       "  .table-result-container {\n",
       "    max-height: 300px;\n",
       "    overflow: auto;\n",
       "  }\n",
       "  table, th, td {\n",
       "    border: 1px solid black;\n",
       "    border-collapse: collapse;\n",
       "  }\n",
       "  th, td {\n",
       "    padding: 5px;\n",
       "  }\n",
       "  th {\n",
       "    text-align: left;\n",
       "  }\n",
       "</style><div class='table-result-container'><table class='table-result'><thead style='background-color: white'><tr><th>total_contracts</th><th>total_renewals</th><th>renewal_rate_RR</th></tr></thead><tbody><tr><td>200</td><td>177</td><td>0.89</td></tr></tbody></table></div>"
      ]
     },
     "metadata": {
      "application/vnd.databricks.v1+output": {
       "addedWidgets": {},
       "aggData": [],
       "aggError": "",
       "aggOverflow": false,
       "aggSchema": [],
       "aggSeriesLimitReached": false,
       "aggType": "",
       "arguments": {},
       "columnCustomDisplayInfos": {},
       "data": [
        [
         200,
         177,
         0.89
        ]
       ],
       "datasetInfos": [],
       "dbfsResultPath": null,
       "isJsonSchema": true,
       "metadata": {
        "createTempViewForImplicitDf": true,
        "dataframeName": "_sqldf",
        "executionCount": 15
       },
       "overflow": false,
       "plotOptions": {
        "customPlotOptions": {},
        "displayType": "table",
        "pivotAggregation": null,
        "pivotColumns": null,
        "xColumns": null,
        "yColumns": null
       },
       "removedWidgets": [],
       "schema": [
        {
         "metadata": "{}",
         "name": "total_contracts",
         "type": "\"long\""
        },
        {
         "metadata": "{}",
         "name": "total_renewals",
         "type": "\"long\""
        },
        {
         "metadata": "{}",
         "name": "renewal_rate_RR",
         "type": "\"double\""
        }
       ],
       "type": "table"
      }
     },
     "output_type": "display_data"
    }
   ],
   "source": [
    "%sql\n",
    "select count(*) total_contracts\n",
    "      ,count(case when renewal_status = 'Renewed' then contract_id else null end) as total_renewals\n",
    "      ,round(count(case when renewal_status = 'Renewed' then contract_id else null end) / count(*),2) as renewal_rate_RR\n",
    "from RR"
   ]
  },
  {
   "cell_type": "markdown",
   "metadata": {
    "application/vnd.databricks.v1+cell": {
     "cellMetadata": {},
     "inputWidgets": {},
     "nuid": "fae1d2c4-3854-4182-8316-30171bebbd83",
     "showTitle": false,
     "tableResultSettingsMap": {},
     "title": ""
    }
   },
   "source": [
    "\n",
    "### 5. Customer Churn Rate\n",
    "\n",
    "| Category | Detail |\n",
    "| :--- | :--- |\n",
    "| **Definition** | The percentage of customers who canceled or stopped their subscription over a specific period. |\n",
    "| **SQL Concept** | Count the customers who churned during the period and divide by the total number of customers at the *start* of the period. |\n",
    "| **Formula** | $$\\text{Customer Churn Rate} = \\frac{\\text{Customers Churned in Period}}{\\text{Customers at Start of Period}} \\times 100$$ |\n",
    "| **Data Required** | **Customer ID**, **Start-of-Period Customer Count** (for the denominator/cohort), **Customer Status** (e.g., 'Active', 'Churned'), **Churn Date**. |\n",
    "\n",
    "\n"
   ]
  },
  {
   "cell_type": "code",
   "execution_count": 0,
   "metadata": {
    "application/vnd.databricks.v1+cell": {
     "cellMetadata": {
      "byteLimit": 2048000,
      "implicitDf": true,
      "rowLimit": 10000
     },
     "inputWidgets": {},
     "nuid": "0781cef2-a40b-4771-b4ba-f7d12a212e36",
     "showTitle": false,
     "tableResultSettingsMap": {},
     "title": ""
    }
   },
   "outputs": [
    {
     "output_type": "display_data",
     "data": {
      "text/html": [
       "<style scoped>\n",
       "  .table-result-container {\n",
       "    max-height: 300px;\n",
       "    overflow: auto;\n",
       "  }\n",
       "  table, th, td {\n",
       "    border: 1px solid black;\n",
       "    border-collapse: collapse;\n",
       "  }\n",
       "  th, td {\n",
       "    padding: 5px;\n",
       "  }\n",
       "  th {\n",
       "    text-align: left;\n",
       "  }\n",
       "</style><div class='table-result-container'><table class='table-result'><thead style='background-color: white'><tr></tr></thead><tbody></tbody></table></div>"
      ]
     },
     "metadata": {
      "application/vnd.databricks.v1+output": {
       "addedWidgets": {},
       "aggData": [],
       "aggError": "",
       "aggOverflow": false,
       "aggSchema": [],
       "aggSeriesLimitReached": false,
       "aggType": "",
       "arguments": {},
       "columnCustomDisplayInfos": {},
       "data": [],
       "datasetInfos": [],
       "dbfsResultPath": null,
       "isJsonSchema": true,
       "metadata": {
        "dataframeName": null
       },
       "overflow": false,
       "plotOptions": {
        "customPlotOptions": {},
        "displayType": "table",
        "pivotAggregation": null,
        "pivotColumns": null,
        "xColumns": null,
        "yColumns": null
       },
       "removedWidgets": [],
       "schema": [],
       "type": "table"
      }
     },
     "output_type": "display_data"
    }
   ],
   "source": [
    "%sql\n",
    "CREATE OR REPLACE TEMPORARY VIEW CCR \n",
    "USING CSV\n",
    "OPTIONS (\n",
    "  path \"file:/Workspace/Users/olesia.tankersley@thermofisher.com/Optimization/data/CCR.csv\",\n",
    "  header \"true\",\n",
    "  inferSchema \"true\" ,\n",
    "  dateFormat \"yyyy/MM/dd\");"
   ]
  },
  {
   "cell_type": "code",
   "execution_count": 0,
   "metadata": {
    "application/vnd.databricks.v1+cell": {
     "cellMetadata": {
      "byteLimit": 2048000,
      "implicitDf": true,
      "rowLimit": 10000
     },
     "inputWidgets": {},
     "nuid": "5c7ad1f3-861e-46ee-9795-c6f834f982b7",
     "showTitle": false,
     "tableResultSettingsMap": {
      "0": {
       "dataGridStateBlob": "{\"version\":1,\"tableState\":{\"columnPinning\":{\"left\":[\"#row_number#\"],\"right\":[]},\"columnSizing\":{},\"columnVisibility\":{}},\"settings\":{\"columns\":{}},\"syncTimestamp\":1760577073104}",
       "filterBlob": "{\"version\":1,\"filterGroups\":[],\"syncTimestamp\":1760577015259}",
       "queryPlanFiltersBlob": "[]",
       "tableResultIndex": 0
      }
     },
     "title": ""
    }
   },
   "outputs": [
    {
     "output_type": "display_data",
     "data": {
      "text/html": [
       "<style scoped>\n",
       "  .table-result-container {\n",
       "    max-height: 300px;\n",
       "    overflow: auto;\n",
       "  }\n",
       "  table, th, td {\n",
       "    border: 1px solid black;\n",
       "    border-collapse: collapse;\n",
       "  }\n",
       "  th, td {\n",
       "    padding: 5px;\n",
       "  }\n",
       "  th {\n",
       "    text-align: left;\n",
       "  }\n",
       "</style><div class='table-result-container'><table class='table-result'><thead style='background-color: white'><tr><th>customer_id</th><th>acquisition_date</th><th>start_of_period_date</th><th>end_of_period_date</th><th>start_of_period_status</th><th>end_of_period_status</th><th>churn_date</th></tr></thead><tbody><tr><td>1</td><td>5/22/2024</td><td>3/1/2025</td><td>3/31/2025</td><td>Active</td><td>Active</td><td>null</td></tr><tr><td>2</td><td>7/18/2023</td><td>3/1/2025</td><td>3/31/2025</td><td>Active</td><td>Active</td><td>null</td></tr><tr><td>3</td><td>8/31/2023</td><td>3/1/2025</td><td>3/31/2025</td><td>Active</td><td>Active</td><td>null</td></tr><tr><td>4</td><td>1/16/2024</td><td>3/1/2025</td><td>3/31/2025</td><td>Active</td><td>Active</td><td>null</td></tr><tr><td>5</td><td>4/4/2023</td><td>3/1/2025</td><td>3/31/2025</td><td>Active</td><td>Active</td><td>null</td></tr></tbody></table></div>"
      ]
     },
     "metadata": {
      "application/vnd.databricks.v1+output": {
       "addedWidgets": {},
       "aggData": [],
       "aggError": "",
       "aggOverflow": false,
       "aggSchema": [],
       "aggSeriesLimitReached": false,
       "aggType": "",
       "arguments": {},
       "columnCustomDisplayInfos": {},
       "data": [
        [
         1,
         "5/22/2024",
         "3/1/2025",
         "3/31/2025",
         "Active",
         "Active",
         null
        ],
        [
         2,
         "7/18/2023",
         "3/1/2025",
         "3/31/2025",
         "Active",
         "Active",
         null
        ],
        [
         3,
         "8/31/2023",
         "3/1/2025",
         "3/31/2025",
         "Active",
         "Active",
         null
        ],
        [
         4,
         "1/16/2024",
         "3/1/2025",
         "3/31/2025",
         "Active",
         "Active",
         null
        ],
        [
         5,
         "4/4/2023",
         "3/1/2025",
         "3/31/2025",
         "Active",
         "Active",
         null
        ]
       ],
       "datasetInfos": [],
       "dbfsResultPath": null,
       "isJsonSchema": true,
       "metadata": {
        "createTempViewForImplicitDf": true,
        "dataframeName": "_sqldf",
        "executionCount": 16
       },
       "overflow": false,
       "plotOptions": {
        "customPlotOptions": {},
        "displayType": "table",
        "pivotAggregation": null,
        "pivotColumns": null,
        "xColumns": null,
        "yColumns": null
       },
       "removedWidgets": [],
       "schema": [
        {
         "metadata": "{}",
         "name": "customer_id",
         "type": "\"integer\""
        },
        {
         "metadata": "{}",
         "name": "acquisition_date",
         "type": "\"string\""
        },
        {
         "metadata": "{}",
         "name": "start_of_period_date",
         "type": "\"string\""
        },
        {
         "metadata": "{}",
         "name": "end_of_period_date",
         "type": "\"string\""
        },
        {
         "metadata": "{}",
         "name": "start_of_period_status",
         "type": "\"string\""
        },
        {
         "metadata": "{}",
         "name": "end_of_period_status",
         "type": "\"string\""
        },
        {
         "metadata": "{}",
         "name": "churn_date",
         "type": "\"string\""
        }
       ],
       "type": "table"
      }
     },
     "output_type": "display_data"
    }
   ],
   "source": [
    " %sql\n",
    "select * from CCR limit 5"
   ]
  },
  {
   "cell_type": "code",
   "execution_count": 0,
   "metadata": {
    "application/vnd.databricks.v1+cell": {
     "cellMetadata": {
      "byteLimit": 2048000,
      "implicitDf": true,
      "rowLimit": 10000
     },
     "inputWidgets": {},
     "nuid": "9f4886a0-9bde-4660-a473-27006d659e65",
     "showTitle": false,
     "tableResultSettingsMap": {
      "0": {
       "dataGridStateBlob": "{\"version\":1,\"tableState\":{\"columnPinning\":{\"left\":[\"#row_number#\"],\"right\":[]},\"columnSizing\":{},\"columnVisibility\":{}},\"settings\":{\"columns\":{}},\"syncTimestamp\":1760587318479}",
       "filterBlob": null,
       "queryPlanFiltersBlob": null,
       "tableResultIndex": 0
      }
     },
     "title": ""
    }
   },
   "outputs": [
    {
     "output_type": "display_data",
     "data": {
      "text/html": [
       "<style scoped>\n",
       "  .table-result-container {\n",
       "    max-height: 300px;\n",
       "    overflow: auto;\n",
       "  }\n",
       "  table, th, td {\n",
       "    border: 1px solid black;\n",
       "    border-collapse: collapse;\n",
       "  }\n",
       "  th, td {\n",
       "    padding: 5px;\n",
       "  }\n",
       "  th {\n",
       "    text-align: left;\n",
       "  }\n",
       "</style><div class='table-result-container'><table class='table-result'><thead style='background-color: white'><tr><th>total_cusotmers</th><th>churn</th><th>churn_rate_CR</th></tr></thead><tbody><tr><td>200</td><td>22</td><td>0.11</td></tr></tbody></table></div>"
      ]
     },
     "metadata": {
      "application/vnd.databricks.v1+output": {
       "addedWidgets": {},
       "aggData": [],
       "aggError": "",
       "aggOverflow": false,
       "aggSchema": [],
       "aggSeriesLimitReached": false,
       "aggType": "",
       "arguments": {},
       "columnCustomDisplayInfos": {},
       "data": [
        [
         200,
         22,
         0.11
        ]
       ],
       "datasetInfos": [],
       "dbfsResultPath": null,
       "isJsonSchema": true,
       "metadata": {
        "createTempViewForImplicitDf": true,
        "dataframeName": "_sqldf",
        "executionCount": 17
       },
       "overflow": false,
       "plotOptions": {
        "customPlotOptions": {},
        "displayType": "table",
        "pivotAggregation": null,
        "pivotColumns": null,
        "xColumns": null,
        "yColumns": null
       },
       "removedWidgets": [],
       "schema": [
        {
         "metadata": "{}",
         "name": "total_cusotmers",
         "type": "\"long\""
        },
        {
         "metadata": "{}",
         "name": "churn",
         "type": "\"long\""
        },
        {
         "metadata": "{}",
         "name": "churn_rate_CR",
         "type": "\"double\""
        }
       ],
       "type": "table"
      }
     },
     "output_type": "display_data"
    }
   ],
   "source": [
    "%sql\n",
    "select count(*) as total_cusotmers, count(case when churn_date is not null then customer_id else null end) as churn\n",
    "      ,count(case when churn_date is not null then customer_id else null end)/count(*) as churn_rate_CR  \n",
    "from CCR"
   ]
  },
  {
   "cell_type": "markdown",
   "metadata": {
    "application/vnd.databricks.v1+cell": {
     "cellMetadata": {},
     "inputWidgets": {},
     "nuid": "4b7ec561-e52f-4485-95b1-61bc726f8b58",
     "showTitle": false,
     "tableResultSettingsMap": {},
     "title": ""
    }
   },
   "source": [
    "\n",
    "### 6. Revenue Churn Rate\n",
    "\n",
    "| Category | Detail |\n",
    "| :--- | :--- |\n",
    "| **Definition** | The percentage of recurring revenue lost from churned customers and account downgrades over a specific period. |\n",
    "| **SQL Concept** | Sum the recurring revenue lost (from churn and downgrades) and divide by the total recurring revenue at the *start* of the period. |\n",
    "| **Formula** | $$\\text{Revenue Churn Rate} = \\frac{\\text{Lost Recurring Revenue in Period}}{\\text{Total Recurring Revenue at Start of Period}} \\times 100$$ |\n",
    "| **Data Required** | **Customer ID**, **Start-of-Period MRR/ARR** (Baseline Revenue), **Lost MRR/ARR** (from Churn/Downgrades). |\n",
    "\n",
    "\n"
   ]
  },
  {
   "cell_type": "code",
   "execution_count": 0,
   "metadata": {
    "application/vnd.databricks.v1+cell": {
     "cellMetadata": {
      "byteLimit": 2048000,
      "implicitDf": true,
      "rowLimit": 10000
     },
     "inputWidgets": {},
     "nuid": "7b913479-90e3-4730-b0e5-795beec5fafc",
     "showTitle": false,
     "tableResultSettingsMap": {},
     "title": ""
    }
   },
   "outputs": [
    {
     "output_type": "display_data",
     "data": {
      "text/html": [
       "<style scoped>\n",
       "  .table-result-container {\n",
       "    max-height: 300px;\n",
       "    overflow: auto;\n",
       "  }\n",
       "  table, th, td {\n",
       "    border: 1px solid black;\n",
       "    border-collapse: collapse;\n",
       "  }\n",
       "  th, td {\n",
       "    padding: 5px;\n",
       "  }\n",
       "  th {\n",
       "    text-align: left;\n",
       "  }\n",
       "</style><div class='table-result-container'><table class='table-result'><thead style='background-color: white'><tr></tr></thead><tbody></tbody></table></div>"
      ]
     },
     "metadata": {
      "application/vnd.databricks.v1+output": {
       "addedWidgets": {},
       "aggData": [],
       "aggError": "",
       "aggOverflow": false,
       "aggSchema": [],
       "aggSeriesLimitReached": false,
       "aggType": "",
       "arguments": {},
       "columnCustomDisplayInfos": {},
       "data": [],
       "datasetInfos": [],
       "dbfsResultPath": null,
       "isJsonSchema": true,
       "metadata": {
        "dataframeName": null
       },
       "overflow": false,
       "plotOptions": {
        "customPlotOptions": {},
        "displayType": "table",
        "pivotAggregation": null,
        "pivotColumns": null,
        "xColumns": null,
        "yColumns": null
       },
       "removedWidgets": [],
       "schema": [],
       "type": "table"
      }
     },
     "output_type": "display_data"
    }
   ],
   "source": [
    "%sql\n",
    "CREATE OR REPLACE TEMPORARY VIEW RCR \n",
    "USING CSV\n",
    "OPTIONS (\n",
    "  path \"file:/Workspace/Users/olesia.tankersley@thermofisher.com/Optimization/data/RCR.csv\",\n",
    "  header \"true\",\n",
    "  inferSchema \"true\",\n",
    "  dateFormat \"yyyy/MM/dd\" );"
   ]
  },
  {
   "cell_type": "code",
   "execution_count": 0,
   "metadata": {
    "application/vnd.databricks.v1+cell": {
     "cellMetadata": {
      "byteLimit": 2048000,
      "implicitDf": true,
      "rowLimit": 10000
     },
     "inputWidgets": {},
     "nuid": "277a7b40-1687-4ff7-962c-97f37efe3840",
     "showTitle": false,
     "tableResultSettingsMap": {
      "0": {
       "dataGridStateBlob": "{\"version\":1,\"tableState\":{\"columnPinning\":{\"left\":[\"#row_number#\"],\"right\":[]},\"columnSizing\":{},\"columnVisibility\":{}},\"settings\":{\"columns\":{}},\"syncTimestamp\":1760577470531}",
       "filterBlob": null,
       "queryPlanFiltersBlob": null,
       "tableResultIndex": 0
      }
     },
     "title": ""
    }
   },
   "outputs": [
    {
     "output_type": "display_data",
     "data": {
      "text/html": [
       "<style scoped>\n",
       "  .table-result-container {\n",
       "    max-height: 300px;\n",
       "    overflow: auto;\n",
       "  }\n",
       "  table, th, td {\n",
       "    border: 1px solid black;\n",
       "    border-collapse: collapse;\n",
       "  }\n",
       "  th, td {\n",
       "    padding: 5px;\n",
       "  }\n",
       "  th {\n",
       "    text-align: left;\n",
       "  }\n",
       "</style><div class='table-result-container'><table class='table-result'><thead style='background-color: white'><tr><th>customer_id</th><th>start_of_period_date</th><th>end_of_period_date</th><th>start_of_period_mrr</th><th>revenue_lost_churn_downgrade</th><th>revenue_change_type</th></tr></thead><tbody><tr><td>1</td><td>3/1/2024</td><td>3/31/2024</td><td>1000</td><td>0.0</td><td>Retained_or_Upsell</td></tr><tr><td>2</td><td>3/1/2024</td><td>3/31/2024</td><td>3939</td><td>0.0</td><td>Retained_or_Upsell</td></tr><tr><td>3</td><td>3/1/2024</td><td>3/31/2024</td><td>1737</td><td>0.0</td><td>Retained_or_Upsell</td></tr><tr><td>4</td><td>3/1/2024</td><td>3/31/2024</td><td>2537</td><td>0.0</td><td>Retained_or_Upsell</td></tr><tr><td>5</td><td>3/1/2024</td><td>3/31/2024</td><td>3179</td><td>0.0</td><td>Retained_or_Upsell</td></tr></tbody></table></div>"
      ]
     },
     "metadata": {
      "application/vnd.databricks.v1+output": {
       "addedWidgets": {},
       "aggData": [],
       "aggError": "",
       "aggOverflow": false,
       "aggSchema": [],
       "aggSeriesLimitReached": false,
       "aggType": "",
       "arguments": {},
       "columnCustomDisplayInfos": {},
       "data": [
        [
         1,
         "3/1/2024",
         "3/31/2024",
         1000,
         0.0,
         "Retained_or_Upsell"
        ],
        [
         2,
         "3/1/2024",
         "3/31/2024",
         3939,
         0.0,
         "Retained_or_Upsell"
        ],
        [
         3,
         "3/1/2024",
         "3/31/2024",
         1737,
         0.0,
         "Retained_or_Upsell"
        ],
        [
         4,
         "3/1/2024",
         "3/31/2024",
         2537,
         0.0,
         "Retained_or_Upsell"
        ],
        [
         5,
         "3/1/2024",
         "3/31/2024",
         3179,
         0.0,
         "Retained_or_Upsell"
        ]
       ],
       "datasetInfos": [],
       "dbfsResultPath": null,
       "isJsonSchema": true,
       "metadata": {
        "createTempViewForImplicitDf": true,
        "dataframeName": "_sqldf",
        "executionCount": 18
       },
       "overflow": false,
       "plotOptions": {
        "customPlotOptions": {},
        "displayType": "table",
        "pivotAggregation": null,
        "pivotColumns": null,
        "xColumns": null,
        "yColumns": null
       },
       "removedWidgets": [],
       "schema": [
        {
         "metadata": "{}",
         "name": "customer_id",
         "type": "\"integer\""
        },
        {
         "metadata": "{}",
         "name": "start_of_period_date",
         "type": "\"string\""
        },
        {
         "metadata": "{}",
         "name": "end_of_period_date",
         "type": "\"string\""
        },
        {
         "metadata": "{}",
         "name": "start_of_period_mrr",
         "type": "\"integer\""
        },
        {
         "metadata": "{}",
         "name": "revenue_lost_churn_downgrade",
         "type": "\"double\""
        },
        {
         "metadata": "{}",
         "name": "revenue_change_type",
         "type": "\"string\""
        }
       ],
       "type": "table"
      }
     },
     "output_type": "display_data"
    }
   ],
   "source": [
    " %sql\n",
    "select * from RCR limit 5"
   ]
  },
  {
   "cell_type": "code",
   "execution_count": 0,
   "metadata": {
    "application/vnd.databricks.v1+cell": {
     "cellMetadata": {
      "byteLimit": 2048000,
      "implicitDf": true,
      "rowLimit": 10000
     },
     "inputWidgets": {},
     "nuid": "b9d6474a-c0e4-4b85-be5c-b03778c1450f",
     "showTitle": false,
     "tableResultSettingsMap": {
      "0": {
       "dataGridStateBlob": "{\"version\":1,\"tableState\":{\"columnPinning\":{\"left\":[\"#row_number#\"],\"right\":[]},\"columnSizing\":{},\"columnVisibility\":{}},\"settings\":{\"columns\":{}},\"syncTimestamp\":1760587545181}",
       "filterBlob": null,
       "queryPlanFiltersBlob": null,
       "tableResultIndex": 0
      }
     },
     "title": ""
    }
   },
   "outputs": [
    {
     "output_type": "display_data",
     "data": {
      "text/html": [
       "<style scoped>\n",
       "  .table-result-container {\n",
       "    max-height: 300px;\n",
       "    overflow: auto;\n",
       "  }\n",
       "  table, th, td {\n",
       "    border: 1px solid black;\n",
       "    border-collapse: collapse;\n",
       "  }\n",
       "  th, td {\n",
       "    padding: 5px;\n",
       "  }\n",
       "  th {\n",
       "    text-align: left;\n",
       "  }\n",
       "</style><div class='table-result-container'><table class='table-result'><thead style='background-color: white'><tr><th>starting_MRR</th><th>revenue_lost_churn_downgrade</th><th>revenue_churn_rate_RCR</th></tr></thead><tbody><tr><td>545423</td><td>63965.0</td><td>0.12</td></tr></tbody></table></div>"
      ]
     },
     "metadata": {
      "application/vnd.databricks.v1+output": {
       "addedWidgets": {},
       "aggData": [],
       "aggError": "",
       "aggOverflow": false,
       "aggSchema": [],
       "aggSeriesLimitReached": false,
       "aggType": "",
       "arguments": {},
       "columnCustomDisplayInfos": {},
       "data": [
        [
         545423,
         63965.0,
         0.12
        ]
       ],
       "datasetInfos": [],
       "dbfsResultPath": null,
       "isJsonSchema": true,
       "metadata": {
        "createTempViewForImplicitDf": true,
        "dataframeName": "_sqldf",
        "executionCount": 20
       },
       "overflow": false,
       "plotOptions": {
        "customPlotOptions": {},
        "displayType": "table",
        "pivotAggregation": null,
        "pivotColumns": null,
        "xColumns": null,
        "yColumns": null
       },
       "removedWidgets": [],
       "schema": [
        {
         "metadata": "{}",
         "name": "starting_MRR",
         "type": "\"long\""
        },
        {
         "metadata": "{}",
         "name": "revenue_lost_churn_downgrade",
         "type": "\"double\""
        },
        {
         "metadata": "{}",
         "name": "revenue_churn_rate_RCR",
         "type": "\"double\""
        }
       ],
       "type": "table"
      }
     },
     "output_type": "display_data"
    }
   ],
   "source": [
    "%sql\n",
    "select sum(start_of_period_mrr) as starting_MRR\n",
    "      ,round(sum(revenue_lost_churn_downgrade),0) as revenue_lost_churn_downgrade\n",
    "      ,round(sum(revenue_lost_churn_downgrade) \n",
    "      /sum(start_of_period_mrr),2) as revenue_churn_rate_RCR\n",
    "from RCR"
   ]
  },
  {
   "cell_type": "markdown",
   "metadata": {
    "application/vnd.databricks.v1+cell": {
     "cellMetadata": {},
     "inputWidgets": {},
     "nuid": "2f611bed-f004-4487-8547-bb9fd3bdca27",
     "showTitle": false,
     "tableResultSettingsMap": {},
     "title": ""
    }
   },
   "source": [
    "\n",
    "### 7. Customer Acquisition Cost (CAC)\n",
    "\n",
    "| Category | Detail |\n",
    "| :--- | :--- |\n",
    "| **Definition** | The total cost (Sales and Marketing expenses) incurred by the business to acquire one new customer. |\n",
    "| **SQL Concept** | Aggregate total Sales and Marketing expenses for a given period and divide by the total number of new customers acquired in that same period. (Note: Expense data often comes from a finance ledger). |\n",
    "| **Formula** | $$\\text{CAC} = \\frac{\\text{Total Sales and Marketing Expenses}}{\\text{Total New Customers Acquired}}$$ |\n",
    "| **Data Required** | **Total Sales and Marketing Expenses** (from Finance/GL system), **New Customer Count**, **Acquisition Date** (for new customer cohort). |\n"
   ]
  },
  {
   "cell_type": "code",
   "execution_count": 0,
   "metadata": {
    "application/vnd.databricks.v1+cell": {
     "cellMetadata": {
      "byteLimit": 2048000,
      "implicitDf": true,
      "rowLimit": 10000
     },
     "inputWidgets": {},
     "nuid": "86e2b152-cde5-40b0-afd1-76f1abdfc07d",
     "showTitle": false,
     "tableResultSettingsMap": {},
     "title": ""
    }
   },
   "outputs": [
    {
     "output_type": "display_data",
     "data": {
      "text/html": [
       "<style scoped>\n",
       "  .table-result-container {\n",
       "    max-height: 300px;\n",
       "    overflow: auto;\n",
       "  }\n",
       "  table, th, td {\n",
       "    border: 1px solid black;\n",
       "    border-collapse: collapse;\n",
       "  }\n",
       "  th, td {\n",
       "    padding: 5px;\n",
       "  }\n",
       "  th {\n",
       "    text-align: left;\n",
       "  }\n",
       "</style><div class='table-result-container'><table class='table-result'><thead style='background-color: white'><tr></tr></thead><tbody></tbody></table></div>"
      ]
     },
     "metadata": {
      "application/vnd.databricks.v1+output": {
       "addedWidgets": {},
       "aggData": [],
       "aggError": "",
       "aggOverflow": false,
       "aggSchema": [],
       "aggSeriesLimitReached": false,
       "aggType": "",
       "arguments": {},
       "columnCustomDisplayInfos": {},
       "data": [],
       "datasetInfos": [],
       "dbfsResultPath": null,
       "isJsonSchema": true,
       "metadata": {
        "dataframeName": null
       },
       "overflow": false,
       "plotOptions": {
        "customPlotOptions": {},
        "displayType": "table",
        "pivotAggregation": null,
        "pivotColumns": null,
        "xColumns": null,
        "yColumns": null
       },
       "removedWidgets": [],
       "schema": [],
       "type": "table"
      }
     },
     "output_type": "display_data"
    }
   ],
   "source": [
    "%sql\n",
    "CREATE OR REPLACE TEMPORARY VIEW CAC \n",
    "USING CSV\n",
    "OPTIONS (\n",
    "  path \"file:/Workspace/Users/olesia.tankersley@thermofisher.com/Optimization/data/CAC.csv\",\n",
    "  header \"true\",\n",
    "  inferSchema \"true\",\n",
    "  dateformat \"MM/dd/yyyy\" );"
   ]
  },
  {
   "cell_type": "code",
   "execution_count": 0,
   "metadata": {
    "application/vnd.databricks.v1+cell": {
     "cellMetadata": {
      "byteLimit": 2048000,
      "implicitDf": true,
      "rowLimit": 10000
     },
     "inputWidgets": {},
     "nuid": "80fc3482-5c51-4658-bce0-f7d7161957a7",
     "showTitle": false,
     "tableResultSettingsMap": {},
     "title": ""
    }
   },
   "outputs": [
    {
     "output_type": "display_data",
     "data": {
      "text/html": [
       "<style scoped>\n",
       "  .table-result-container {\n",
       "    max-height: 300px;\n",
       "    overflow: auto;\n",
       "  }\n",
       "  table, th, td {\n",
       "    border: 1px solid black;\n",
       "    border-collapse: collapse;\n",
       "  }\n",
       "  th, td {\n",
       "    padding: 5px;\n",
       "  }\n",
       "  th {\n",
       "    text-align: left;\n",
       "  }\n",
       "</style><div class='table-result-container'><table class='table-result'><thead style='background-color: white'><tr></tr></thead><tbody></tbody></table></div>"
      ]
     },
     "metadata": {
      "application/vnd.databricks.v1+output": {
       "addedWidgets": {},
       "aggData": [],
       "aggError": "",
       "aggOverflow": false,
       "aggSchema": [],
       "aggSeriesLimitReached": false,
       "aggType": "",
       "arguments": {},
       "columnCustomDisplayInfos": {},
       "data": [],
       "datasetInfos": [],
       "dbfsResultPath": null,
       "isJsonSchema": true,
       "metadata": {
        "dataframeName": null
       },
       "overflow": false,
       "plotOptions": {
        "customPlotOptions": {},
        "displayType": "table",
        "pivotAggregation": null,
        "pivotColumns": null,
        "xColumns": null,
        "yColumns": null
       },
       "removedWidgets": [],
       "schema": [],
       "type": "table"
      }
     },
     "output_type": "display_data"
    }
   ],
   "source": [
    "%sql\n",
    "CREATE OR REPLACE TEMPORARY VIEW CAC_exp \n",
    "USING CSV\n",
    "OPTIONS (\n",
    "  path \"file:/Workspace/Users/olesia.tankersley@thermofisher.com/Optimization/data/CAC_expenses.csv\",\n",
    "  header \"true\",\n",
    "  inferSchema \"true\",\n",
    "  dateformat \"yyyy/MM/dd\" );"
   ]
  },
  {
   "cell_type": "code",
   "execution_count": 0,
   "metadata": {
    "application/vnd.databricks.v1+cell": {
     "cellMetadata": {
      "byteLimit": 2048000,
      "implicitDf": true,
      "rowLimit": 10000
     },
     "inputWidgets": {},
     "nuid": "cda3de3c-cc8f-46d8-83a2-0b1b9c6470b8",
     "showTitle": false,
     "tableResultSettingsMap": {},
     "title": ""
    }
   },
   "outputs": [
    {
     "output_type": "display_data",
     "data": {
      "text/html": [
       "<style scoped>\n",
       "  .table-result-container {\n",
       "    max-height: 300px;\n",
       "    overflow: auto;\n",
       "  }\n",
       "  table, th, td {\n",
       "    border: 1px solid black;\n",
       "    border-collapse: collapse;\n",
       "  }\n",
       "  th, td {\n",
       "    padding: 5px;\n",
       "  }\n",
       "  th {\n",
       "    text-align: left;\n",
       "  }\n",
       "</style><div class='table-result-container'><table class='table-result'><thead style='background-color: white'><tr><th>customer_id</th><th>acquisition_date</th><th>initial_mrr</th></tr></thead><tbody><tr><td>1</td><td>3/17/2024</td><td>134</td></tr><tr><td>2</td><td>3/3/2024</td><td>359</td></tr><tr><td>3</td><td>3/18/2024</td><td>193</td></tr><tr><td>4</td><td>3/16/2024</td><td>318</td></tr><tr><td>5</td><td>3/16/2024</td><td>214</td></tr></tbody></table></div>"
      ]
     },
     "metadata": {
      "application/vnd.databricks.v1+output": {
       "addedWidgets": {},
       "aggData": [],
       "aggError": "",
       "aggOverflow": false,
       "aggSchema": [],
       "aggSeriesLimitReached": false,
       "aggType": "",
       "arguments": {},
       "columnCustomDisplayInfos": {},
       "data": [
        [
         1,
         "3/17/2024",
         134
        ],
        [
         2,
         "3/3/2024",
         359
        ],
        [
         3,
         "3/18/2024",
         193
        ],
        [
         4,
         "3/16/2024",
         318
        ],
        [
         5,
         "3/16/2024",
         214
        ]
       ],
       "datasetInfos": [],
       "dbfsResultPath": null,
       "isJsonSchema": true,
       "metadata": {
        "createTempViewForImplicitDf": true,
        "dataframeName": "_sqldf",
        "executionCount": 27
       },
       "overflow": false,
       "plotOptions": {
        "customPlotOptions": {},
        "displayType": "table",
        "pivotAggregation": null,
        "pivotColumns": null,
        "xColumns": null,
        "yColumns": null
       },
       "removedWidgets": [],
       "schema": [
        {
         "metadata": "{}",
         "name": "customer_id",
         "type": "\"integer\""
        },
        {
         "metadata": "{}",
         "name": "acquisition_date",
         "type": "\"string\""
        },
        {
         "metadata": "{}",
         "name": "initial_mrr",
         "type": "\"integer\""
        }
       ],
       "type": "table"
      }
     },
     "output_type": "display_data"
    }
   ],
   "source": [
    " %sql\n",
    " --customers acquired in the month of March:\n",
    "select * from CAC limit 5"
   ]
  },
  {
   "cell_type": "code",
   "execution_count": 0,
   "metadata": {
    "application/vnd.databricks.v1+cell": {
     "cellMetadata": {
      "byteLimit": 2048000,
      "implicitDf": true,
      "rowLimit": 10000
     },
     "inputWidgets": {},
     "nuid": "8e8c5396-a273-4fc5-a108-530d545cd6ba",
     "showTitle": false,
     "tableResultSettingsMap": {},
     "title": ""
    }
   },
   "outputs": [
    {
     "output_type": "display_data",
     "data": {
      "text/html": [
       "<style scoped>\n",
       "  .table-result-container {\n",
       "    max-height: 300px;\n",
       "    overflow: auto;\n",
       "  }\n",
       "  table, th, td {\n",
       "    border: 1px solid black;\n",
       "    border-collapse: collapse;\n",
       "  }\n",
       "  th, td {\n",
       "    padding: 5px;\n",
       "  }\n",
       "  th {\n",
       "    text-align: left;\n",
       "  }\n",
       "</style><div class='table-result-container'><table class='table-result'><thead style='background-color: white'><tr><th>reporting_month_start</th><th>reporting_month_end</th><th>total_sales_expenses</th><th>total_marketing_expenses</th><th>total_acquisition_cost</th></tr></thead><tbody><tr><td>3/1/2024</td><td>3/31/2024</td><td>55000</td><td>35000</td><td>90000</td></tr></tbody></table></div>"
      ]
     },
     "metadata": {
      "application/vnd.databricks.v1+output": {
       "addedWidgets": {},
       "aggData": [],
       "aggError": "",
       "aggOverflow": false,
       "aggSchema": [],
       "aggSeriesLimitReached": false,
       "aggType": "",
       "arguments": {},
       "columnCustomDisplayInfos": {},
       "data": [
        [
         "3/1/2024",
         "3/31/2024",
         55000,
         35000,
         90000
        ]
       ],
       "datasetInfos": [],
       "dbfsResultPath": null,
       "isJsonSchema": true,
       "metadata": {
        "createTempViewForImplicitDf": true,
        "dataframeName": "_sqldf",
        "executionCount": 22
       },
       "overflow": false,
       "plotOptions": {
        "customPlotOptions": {},
        "displayType": "table",
        "pivotAggregation": null,
        "pivotColumns": null,
        "xColumns": null,
        "yColumns": null
       },
       "removedWidgets": [],
       "schema": [
        {
         "metadata": "{}",
         "name": "reporting_month_start",
         "type": "\"string\""
        },
        {
         "metadata": "{}",
         "name": "reporting_month_end",
         "type": "\"string\""
        },
        {
         "metadata": "{}",
         "name": "total_sales_expenses",
         "type": "\"integer\""
        },
        {
         "metadata": "{}",
         "name": "total_marketing_expenses",
         "type": "\"integer\""
        },
        {
         "metadata": "{}",
         "name": "total_acquisition_cost",
         "type": "\"integer\""
        }
       ],
       "type": "table"
      }
     },
     "output_type": "display_data"
    }
   ],
   "source": [
    " %sql\n",
    "select * from CAC_exp limit 1"
   ]
  },
  {
   "cell_type": "code",
   "execution_count": 0,
   "metadata": {
    "application/vnd.databricks.v1+cell": {
     "cellMetadata": {
      "byteLimit": 2048000,
      "implicitDf": true,
      "rowLimit": 10000
     },
     "inputWidgets": {},
     "nuid": "e9ee5003-20f0-4605-b6ba-c318ee22bf1b",
     "showTitle": false,
     "tableResultSettingsMap": {
      "0": {
       "dataGridStateBlob": "{\"version\":1,\"tableState\":{\"columnPinning\":{\"left\":[\"#row_number#\"],\"right\":[]},\"columnSizing\":{},\"columnVisibility\":{}},\"settings\":{\"columns\":{}},\"syncTimestamp\":1760587828631}",
       "filterBlob": null,
       "queryPlanFiltersBlob": null,
       "tableResultIndex": 0
      }
     },
     "title": ""
    }
   },
   "outputs": [
    {
     "output_type": "display_data",
     "data": {
      "text/html": [
       "<style scoped>\n",
       "  .table-result-container {\n",
       "    max-height: 300px;\n",
       "    overflow: auto;\n",
       "  }\n",
       "  table, th, td {\n",
       "    border: 1px solid black;\n",
       "    border-collapse: collapse;\n",
       "  }\n",
       "  th, td {\n",
       "    padding: 5px;\n",
       "  }\n",
       "  th {\n",
       "    text-align: left;\n",
       "  }\n",
       "</style><div class='table-result-container'><table class='table-result'><thead style='background-color: white'><tr><th>total_sales_expenses</th><th>total_marketing_expenses</th><th>total_acquisition_cost</th><th>new_customers</th><th>CAC</th></tr></thead><tbody><tr><td>55000</td><td>35000</td><td>90000</td><td>200</td><td>450.0</td></tr></tbody></table></div>"
      ]
     },
     "metadata": {
      "application/vnd.databricks.v1+output": {
       "addedWidgets": {},
       "aggData": [],
       "aggError": "",
       "aggOverflow": false,
       "aggSchema": [],
       "aggSeriesLimitReached": false,
       "aggType": "",
       "arguments": {},
       "columnCustomDisplayInfos": {},
       "data": [
        [
         55000,
         35000,
         90000,
         200,
         450.0
        ]
       ],
       "datasetInfos": [],
       "dbfsResultPath": null,
       "isJsonSchema": true,
       "metadata": {
        "createTempViewForImplicitDf": true,
        "dataframeName": "_sqldf",
        "executionCount": 32
       },
       "overflow": false,
       "plotOptions": {
        "customPlotOptions": {},
        "displayType": "table",
        "pivotAggregation": null,
        "pivotColumns": null,
        "xColumns": null,
        "yColumns": null
       },
       "removedWidgets": [],
       "schema": [
        {
         "metadata": "{}",
         "name": "total_sales_expenses",
         "type": "\"integer\""
        },
        {
         "metadata": "{}",
         "name": "total_marketing_expenses",
         "type": "\"integer\""
        },
        {
         "metadata": "{}",
         "name": "total_acquisition_cost",
         "type": "\"integer\""
        },
        {
         "metadata": "{}",
         "name": "new_customers",
         "type": "\"long\""
        },
        {
         "metadata": "{}",
         "name": "CAC",
         "type": "\"double\""
        }
       ],
       "type": "table"
      }
     },
     "output_type": "display_data"
    }
   ],
   "source": [
    "%sql\n",
    "---assuming we are calculating monthly CAC \n",
    "select total_sales_expenses, total_marketing_expenses, total_acquisition_cost\n",
    "      ,count(distinct customer_id) as new_customers\n",
    "      ,total_acquisition_cost/count(distinct customer_id) as CAC     \n",
    "from CAC_exp\n",
    "cross join CAC\n",
    "group by total_sales_expenses, total_marketing_expenses, total_acquisition_cost\n"
   ]
  },
  {
   "cell_type": "markdown",
   "metadata": {
    "application/vnd.databricks.v1+cell": {
     "cellMetadata": {},
     "inputWidgets": {},
     "nuid": "195602af-d757-4b0f-860c-b19b70a02b9c",
     "showTitle": false,
     "tableResultSettingsMap": {},
     "title": ""
    }
   },
   "source": [
    "\n",
    "### 8. Retention Rate at 30, 60, 360 days\n",
    "\n",
    "| Category | Detail |\n",
    "| :--- | :--- |\n",
    "| **Definition** | The percentage of a specific starting cohort of customers (e.g., all customers acquired in January) that are still active after a set number of days (N). |\n",
    "| **SQL Concept** | Define a starting cohort by acquisition date. Count the customers from that cohort who still have an 'Active' status or a recent **Last Activity Date** N days later. |\n",
    "| **Formula** | $$\\text{Retention Rate (N days)} = \\frac{\\text{Customers from Cohort Still Active after N days}}{\\text{Total Customers in Cohort}} \\times 100$$ |\n",
    "| **Data Required** | **Customer ID**, **Acquisition Date** (for defining the cohort), **Active/Status Flag** or **Last Activity Date**, **Date of Measurement** (e.g., 30, 60, or 360 days after acquisition). |\n"
   ]
  },
  {
   "cell_type": "code",
   "execution_count": 0,
   "metadata": {
    "application/vnd.databricks.v1+cell": {
     "cellMetadata": {
      "byteLimit": 2048000,
      "implicitDf": true,
      "rowLimit": 10000
     },
     "inputWidgets": {},
     "nuid": "c3cf6df4-ade3-4644-bfa8-4246a08ad4f3",
     "showTitle": false,
     "tableResultSettingsMap": {},
     "title": ""
    }
   },
   "outputs": [
    {
     "output_type": "display_data",
     "data": {
      "text/html": [
       "<style scoped>\n",
       "  .table-result-container {\n",
       "    max-height: 300px;\n",
       "    overflow: auto;\n",
       "  }\n",
       "  table, th, td {\n",
       "    border: 1px solid black;\n",
       "    border-collapse: collapse;\n",
       "  }\n",
       "  th, td {\n",
       "    padding: 5px;\n",
       "  }\n",
       "  th {\n",
       "    text-align: left;\n",
       "  }\n",
       "</style><div class='table-result-container'><table class='table-result'><thead style='background-color: white'><tr></tr></thead><tbody></tbody></table></div>"
      ]
     },
     "metadata": {
      "application/vnd.databricks.v1+output": {
       "addedWidgets": {},
       "aggData": [],
       "aggError": "",
       "aggOverflow": false,
       "aggSchema": [],
       "aggSeriesLimitReached": false,
       "aggType": "",
       "arguments": {},
       "columnCustomDisplayInfos": {},
       "data": [],
       "datasetInfos": [],
       "dbfsResultPath": null,
       "isJsonSchema": true,
       "metadata": {
        "dataframeName": null
       },
       "overflow": false,
       "plotOptions": {
        "customPlotOptions": {},
        "displayType": "table",
        "pivotAggregation": null,
        "pivotColumns": null,
        "xColumns": null,
        "yColumns": null
       },
       "removedWidgets": [],
       "schema": [],
       "type": "table"
      }
     },
     "output_type": "display_data"
    }
   ],
   "source": [
    "%sql\n",
    "CREATE OR REPLACE TEMPORARY VIEW RRD \n",
    "USING CSV\n",
    "OPTIONS (\n",
    "  path \"file:/Workspace/Users/olesia.tankersley@thermofisher.com/Optimization/data/RR_days.csv\",\n",
    "  header \"true\",\n",
    "  inferSchema \"true\" );"
   ]
  },
  {
   "cell_type": "code",
   "execution_count": 0,
   "metadata": {
    "application/vnd.databricks.v1+cell": {
     "cellMetadata": {
      "byteLimit": 2048000,
      "implicitDf": true,
      "rowLimit": 10000
     },
     "inputWidgets": {},
     "nuid": "f0f8cb0a-f554-49d5-ba26-fc7a827a9de3",
     "showTitle": false,
     "tableResultSettingsMap": {
      "0": {
       "dataGridStateBlob": "{\"version\":1,\"tableState\":{\"columnPinning\":{\"left\":[\"#row_number#\"],\"right\":[]},\"columnSizing\":{\"subscription_date\":277,\"termination_date\":244},\"columnVisibility\":{}},\"settings\":{\"columns\":{}},\"syncTimestamp\":1760592573554}",
       "filterBlob": null,
       "queryPlanFiltersBlob": null,
       "tableResultIndex": 0
      }
     },
     "title": ""
    }
   },
   "outputs": [
    {
     "output_type": "display_data",
     "data": {
      "text/html": [
       "<style scoped>\n",
       "  .table-result-container {\n",
       "    max-height: 300px;\n",
       "    overflow: auto;\n",
       "  }\n",
       "  table, th, td {\n",
       "    border: 1px solid black;\n",
       "    border-collapse: collapse;\n",
       "  }\n",
       "  th, td {\n",
       "    padding: 5px;\n",
       "  }\n",
       "  th {\n",
       "    text-align: left;\n",
       "  }\n",
       "</style><div class='table-result-container'><table class='table-result'><thead style='background-color: white'><tr><th>customer_id</th><th>acquisition_date</th><th>subscription_date</th><th>termination_date</th></tr></thead><tbody><tr><td>1</td><td>2023-09-16</td><td>2023-02-08</td><td>null</td></tr><tr><td>2</td><td>2023-11-28</td><td>2023-12-02</td><td>null</td></tr><tr><td>3</td><td>2023-11-26</td><td>2023-01-28</td><td>2024-07-22</td></tr><tr><td>4</td><td>2023-02-06</td><td>2023-11-17</td><td>null</td></tr><tr><td>5</td><td>2023-01-23</td><td>2023-02-17</td><td>null</td></tr></tbody></table></div>"
      ]
     },
     "metadata": {
      "application/vnd.databricks.v1+output": {
       "addedWidgets": {},
       "aggData": [],
       "aggError": "",
       "aggOverflow": false,
       "aggSchema": [],
       "aggSeriesLimitReached": false,
       "aggType": "",
       "arguments": {},
       "columnCustomDisplayInfos": {},
       "data": [
        [
         1,
         "2023-09-16",
         "2023-02-08",
         null
        ],
        [
         2,
         "2023-11-28",
         "2023-12-02",
         null
        ],
        [
         3,
         "2023-11-26",
         "2023-01-28",
         "2024-07-22"
        ],
        [
         4,
         "2023-02-06",
         "2023-11-17",
         null
        ],
        [
         5,
         "2023-01-23",
         "2023-02-17",
         null
        ]
       ],
       "datasetInfos": [],
       "dbfsResultPath": null,
       "isJsonSchema": true,
       "metadata": {
        "createTempViewForImplicitDf": true,
        "dataframeName": "_sqldf",
        "executionCount": 115
       },
       "overflow": false,
       "plotOptions": {
        "customPlotOptions": {},
        "displayType": "table",
        "pivotAggregation": null,
        "pivotColumns": null,
        "xColumns": null,
        "yColumns": null
       },
       "removedWidgets": [],
       "schema": [
        {
         "metadata": "{}",
         "name": "customer_id",
         "type": "\"integer\""
        },
        {
         "metadata": "{\"__detected_date_formats\":\"M/d/yyyy\"}",
         "name": "acquisition_date",
         "type": "\"date\""
        },
        {
         "metadata": "{\"__detected_date_formats\":\"M/d/yyyy\"}",
         "name": "subscription_date",
         "type": "\"date\""
        },
        {
         "metadata": "{\"__detected_date_formats\":\"M/d/yyyy\"}",
         "name": "termination_date",
         "type": "\"date\""
        }
       ],
       "type": "table"
      }
     },
     "output_type": "display_data"
    }
   ],
   "source": [
    " %sql\n",
    "select * from RRD limit 5"
   ]
  },
  {
   "cell_type": "code",
   "execution_count": 0,
   "metadata": {
    "application/vnd.databricks.v1+cell": {
     "cellMetadata": {
      "byteLimit": 2048000,
      "implicitDf": true,
      "rowLimit": 10000
     },
     "inputWidgets": {},
     "nuid": "00f3684b-1370-4395-90e7-beec24712f6b",
     "showTitle": false,
     "tableResultSettingsMap": {
      "0": {
       "dataGridStateBlob": "{\"version\":1,\"tableState\":{\"columnPinning\":{\"left\":[\"#row_number#\"],\"right\":[]},\"columnSizing\":{},\"columnVisibility\":{}},\"settings\":{\"columns\":{}},\"syncTimestamp\":1760592278893}",
       "filterBlob": null,
       "queryPlanFiltersBlob": null,
       "tableResultIndex": 0
      }
     },
     "title": ""
    }
   },
   "outputs": [
    {
     "output_type": "display_data",
     "data": {
      "text/html": [
       "<style scoped>\n",
       "  .table-result-container {\n",
       "    max-height: 300px;\n",
       "    overflow: auto;\n",
       "  }\n",
       "  table, th, td {\n",
       "    border: 1px solid black;\n",
       "    border-collapse: collapse;\n",
       "  }\n",
       "  th, td {\n",
       "    padding: 5px;\n",
       "  }\n",
       "  th {\n",
       "    text-align: left;\n",
       "  }\n",
       "</style><div class='table-result-container'><table class='table-result'><thead style='background-color: white'><tr><th>total_subscribed</th><th>subscription_cohort_retention_30_days</th><th>subscription_cohort_retention_60_days</th><th>subscription_cohort_retention_360_days</th><th>survival_rate_30_days</th><th>survival_rate_60_days</th><th>survival_rate_360_days</th></tr></thead><tbody><tr><td>500</td><td>480</td><td>478</td><td>400</td><td>0.96</td><td>0.956</td><td>0.8</td></tr></tbody></table></div>"
      ]
     },
     "metadata": {
      "application/vnd.databricks.v1+output": {
       "addedWidgets": {},
       "aggData": [],
       "aggError": "",
       "aggOverflow": false,
       "aggSchema": [],
       "aggSeriesLimitReached": false,
       "aggType": "",
       "arguments": {},
       "columnCustomDisplayInfos": {},
       "data": [
        [
         500,
         480,
         478,
         400,
         0.96,
         0.956,
         0.8
        ]
       ],
       "datasetInfos": [],
       "dbfsResultPath": null,
       "isJsonSchema": true,
       "metadata": {
        "createTempViewForImplicitDf": true,
        "dataframeName": "_sqldf",
        "executionCount": 134
       },
       "overflow": false,
       "plotOptions": {
        "customPlotOptions": {},
        "displayType": "table",
        "pivotAggregation": null,
        "pivotColumns": null,
        "xColumns": null,
        "yColumns": null
       },
       "removedWidgets": [],
       "schema": [
        {
         "metadata": "{}",
         "name": "total_subscribed",
         "type": "\"long\""
        },
        {
         "metadata": "{}",
         "name": "subscription_cohort_retention_30_days",
         "type": "\"long\""
        },
        {
         "metadata": "{}",
         "name": "subscription_cohort_retention_60_days",
         "type": "\"long\""
        },
        {
         "metadata": "{}",
         "name": "subscription_cohort_retention_360_days",
         "type": "\"long\""
        },
        {
         "metadata": "{}",
         "name": "survival_rate_30_days",
         "type": "\"double\""
        },
        {
         "metadata": "{}",
         "name": "survival_rate_60_days",
         "type": "\"double\""
        },
        {
         "metadata": "{}",
         "name": "survival_rate_360_days",
         "type": "\"double\""
        }
       ],
       "type": "table"
      }
     },
     "output_type": "display_data"
    }
   ],
   "source": [
    "%sql\n",
    "\n",
    "select count(case when subscription_date is not null then customer_id else null end) as total_subscribed\n",
    "\n",
    ", count(case when termination_date > subscription_date + interval 30 days or termination_date is null \n",
    "             then customer_id else null end) as subscription_cohort_retention_30_days\n",
    "\n",
    ", count(case when termination_date > subscription_date + interval 60 days or termination_date is null \n",
    "             then customer_id else null end) as subscription_cohort_retention_60_days\n",
    "\n",
    ", count(case when termination_date > subscription_date + interval 360 days or termination_date is null \n",
    "             then customer_id else null end) as subscription_cohort_retention_360_days\n",
    "\n",
    ", count(case when termination_date > subscription_date + interval 30 days or termination_date is null \n",
    "             then customer_id else null end)\n",
    "             /count(case when subscription_date is not null then customer_id else null end)\n",
    "              as survival_rate_30_days\n",
    "\n",
    ", count(case when termination_date > subscription_date + interval 60 days or termination_date is null \n",
    "             then customer_id else null end) \n",
    "            /count(case when subscription_date is not null then customer_id else null end)\n",
    "              as survival_rate_60_days\n",
    "\n",
    ", count(case when termination_date > subscription_date + interval 360 days or termination_date is null \n",
    "             then customer_id else null end)  \n",
    "             /count(case when subscription_date is not null then customer_id else null end)\n",
    "              as survival_rate_360_days          \n",
    "from RRD \n"
   ]
  }
 ],
 "metadata": {
  "application/vnd.databricks.v1+notebook": {
   "computePreferences": null,
   "dashboards": [],
   "environmentMetadata": {
    "base_environment": "",
    "environment_version": "4"
   },
   "inputWidgetPreferences": null,
   "language": "python",
   "notebookMetadata": {
    "mostRecentlyExecutedCommandWithImplicitDF": {
     "commandId": 8249529802204710,
     "dataframes": [
      "_sqldf"
     ]
    },
    "pythonIndentUnit": 2
   },
   "notebookName": "Metrics_withSQL",
   "widgets": {}
  },
  "language_info": {
   "name": "python"
  }
 },
 "nbformat": 4,
 "nbformat_minor": 0
}